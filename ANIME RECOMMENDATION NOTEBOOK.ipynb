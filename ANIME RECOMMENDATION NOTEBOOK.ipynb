{
  "nbformat": 4,
  "nbformat_minor": 0,
  "metadata": {
    "colab": {
      "provenance": []
    },
    "kernelspec": {
      "name": "python3",
      "display_name": "Python 3"
    },
    "language_info": {
      "name": "python"
    }
  },
  "cells": [
    {
      "cell_type": "code",
      "execution_count": 1,
      "metadata": {
        "colab": {
          "base_uri": "https://localhost:8080/",
          "height": 74
        },
        "id": "TUOmilkuYZAb",
        "outputId": "96c5f3ae-7e50-4b23-b1f7-326061ac13b5"
      },
      "outputs": [
        {
          "output_type": "display_data",
          "data": {
            "text/plain": [
              "<IPython.core.display.HTML object>"
            ],
            "text/html": [
              "\n",
              "     <input type=\"file\" id=\"files-f2f6aead-882c-48b5-856d-23d87cf19c87\" name=\"files[]\" multiple disabled\n",
              "        style=\"border:none\" />\n",
              "     <output id=\"result-f2f6aead-882c-48b5-856d-23d87cf19c87\">\n",
              "      Upload widget is only available when the cell has been executed in the\n",
              "      current browser session. Please rerun this cell to enable.\n",
              "      </output>\n",
              "      <script>// Copyright 2017 Google LLC\n",
              "//\n",
              "// Licensed under the Apache License, Version 2.0 (the \"License\");\n",
              "// you may not use this file except in compliance with the License.\n",
              "// You may obtain a copy of the License at\n",
              "//\n",
              "//      http://www.apache.org/licenses/LICENSE-2.0\n",
              "//\n",
              "// Unless required by applicable law or agreed to in writing, software\n",
              "// distributed under the License is distributed on an \"AS IS\" BASIS,\n",
              "// WITHOUT WARRANTIES OR CONDITIONS OF ANY KIND, either express or implied.\n",
              "// See the License for the specific language governing permissions and\n",
              "// limitations under the License.\n",
              "\n",
              "/**\n",
              " * @fileoverview Helpers for google.colab Python module.\n",
              " */\n",
              "(function(scope) {\n",
              "function span(text, styleAttributes = {}) {\n",
              "  const element = document.createElement('span');\n",
              "  element.textContent = text;\n",
              "  for (const key of Object.keys(styleAttributes)) {\n",
              "    element.style[key] = styleAttributes[key];\n",
              "  }\n",
              "  return element;\n",
              "}\n",
              "\n",
              "// Max number of bytes which will be uploaded at a time.\n",
              "const MAX_PAYLOAD_SIZE = 100 * 1024;\n",
              "\n",
              "function _uploadFiles(inputId, outputId) {\n",
              "  const steps = uploadFilesStep(inputId, outputId);\n",
              "  const outputElement = document.getElementById(outputId);\n",
              "  // Cache steps on the outputElement to make it available for the next call\n",
              "  // to uploadFilesContinue from Python.\n",
              "  outputElement.steps = steps;\n",
              "\n",
              "  return _uploadFilesContinue(outputId);\n",
              "}\n",
              "\n",
              "// This is roughly an async generator (not supported in the browser yet),\n",
              "// where there are multiple asynchronous steps and the Python side is going\n",
              "// to poll for completion of each step.\n",
              "// This uses a Promise to block the python side on completion of each step,\n",
              "// then passes the result of the previous step as the input to the next step.\n",
              "function _uploadFilesContinue(outputId) {\n",
              "  const outputElement = document.getElementById(outputId);\n",
              "  const steps = outputElement.steps;\n",
              "\n",
              "  const next = steps.next(outputElement.lastPromiseValue);\n",
              "  return Promise.resolve(next.value.promise).then((value) => {\n",
              "    // Cache the last promise value to make it available to the next\n",
              "    // step of the generator.\n",
              "    outputElement.lastPromiseValue = value;\n",
              "    return next.value.response;\n",
              "  });\n",
              "}\n",
              "\n",
              "/**\n",
              " * Generator function which is called between each async step of the upload\n",
              " * process.\n",
              " * @param {string} inputId Element ID of the input file picker element.\n",
              " * @param {string} outputId Element ID of the output display.\n",
              " * @return {!Iterable<!Object>} Iterable of next steps.\n",
              " */\n",
              "function* uploadFilesStep(inputId, outputId) {\n",
              "  const inputElement = document.getElementById(inputId);\n",
              "  inputElement.disabled = false;\n",
              "\n",
              "  const outputElement = document.getElementById(outputId);\n",
              "  outputElement.innerHTML = '';\n",
              "\n",
              "  const pickedPromise = new Promise((resolve) => {\n",
              "    inputElement.addEventListener('change', (e) => {\n",
              "      resolve(e.target.files);\n",
              "    });\n",
              "  });\n",
              "\n",
              "  const cancel = document.createElement('button');\n",
              "  inputElement.parentElement.appendChild(cancel);\n",
              "  cancel.textContent = 'Cancel upload';\n",
              "  const cancelPromise = new Promise((resolve) => {\n",
              "    cancel.onclick = () => {\n",
              "      resolve(null);\n",
              "    };\n",
              "  });\n",
              "\n",
              "  // Wait for the user to pick the files.\n",
              "  const files = yield {\n",
              "    promise: Promise.race([pickedPromise, cancelPromise]),\n",
              "    response: {\n",
              "      action: 'starting',\n",
              "    }\n",
              "  };\n",
              "\n",
              "  cancel.remove();\n",
              "\n",
              "  // Disable the input element since further picks are not allowed.\n",
              "  inputElement.disabled = true;\n",
              "\n",
              "  if (!files) {\n",
              "    return {\n",
              "      response: {\n",
              "        action: 'complete',\n",
              "      }\n",
              "    };\n",
              "  }\n",
              "\n",
              "  for (const file of files) {\n",
              "    const li = document.createElement('li');\n",
              "    li.append(span(file.name, {fontWeight: 'bold'}));\n",
              "    li.append(span(\n",
              "        `(${file.type || 'n/a'}) - ${file.size} bytes, ` +\n",
              "        `last modified: ${\n",
              "            file.lastModifiedDate ? file.lastModifiedDate.toLocaleDateString() :\n",
              "                                    'n/a'} - `));\n",
              "    const percent = span('0% done');\n",
              "    li.appendChild(percent);\n",
              "\n",
              "    outputElement.appendChild(li);\n",
              "\n",
              "    const fileDataPromise = new Promise((resolve) => {\n",
              "      const reader = new FileReader();\n",
              "      reader.onload = (e) => {\n",
              "        resolve(e.target.result);\n",
              "      };\n",
              "      reader.readAsArrayBuffer(file);\n",
              "    });\n",
              "    // Wait for the data to be ready.\n",
              "    let fileData = yield {\n",
              "      promise: fileDataPromise,\n",
              "      response: {\n",
              "        action: 'continue',\n",
              "      }\n",
              "    };\n",
              "\n",
              "    // Use a chunked sending to avoid message size limits. See b/62115660.\n",
              "    let position = 0;\n",
              "    do {\n",
              "      const length = Math.min(fileData.byteLength - position, MAX_PAYLOAD_SIZE);\n",
              "      const chunk = new Uint8Array(fileData, position, length);\n",
              "      position += length;\n",
              "\n",
              "      const base64 = btoa(String.fromCharCode.apply(null, chunk));\n",
              "      yield {\n",
              "        response: {\n",
              "          action: 'append',\n",
              "          file: file.name,\n",
              "          data: base64,\n",
              "        },\n",
              "      };\n",
              "\n",
              "      let percentDone = fileData.byteLength === 0 ?\n",
              "          100 :\n",
              "          Math.round((position / fileData.byteLength) * 100);\n",
              "      percent.textContent = `${percentDone}% done`;\n",
              "\n",
              "    } while (position < fileData.byteLength);\n",
              "  }\n",
              "\n",
              "  // All done.\n",
              "  yield {\n",
              "    response: {\n",
              "      action: 'complete',\n",
              "    }\n",
              "  };\n",
              "}\n",
              "\n",
              "scope.google = scope.google || {};\n",
              "scope.google.colab = scope.google.colab || {};\n",
              "scope.google.colab._files = {\n",
              "  _uploadFiles,\n",
              "  _uploadFilesContinue,\n",
              "};\n",
              "})(self);\n",
              "</script> "
            ]
          },
          "metadata": {}
        },
        {
          "output_type": "stream",
          "name": "stdout",
          "text": [
            "Saving kaggle.json to kaggle.json\n"
          ]
        }
      ],
      "source": [
        "from google.colab import files\n",
        "uploaded = files.upload()\n",
        "\n"
      ]
    },
    {
      "cell_type": "code",
      "source": [
        "!mkdir ~/.kaggle\n",
        "!mv kaggle.json ~/.kaggle/\n",
        "!chmod 600 ~/.kaggle/kaggle.json\n"
      ],
      "metadata": {
        "id": "0PjG9Vg4Yfiq"
      },
      "execution_count": 2,
      "outputs": []
    },
    {
      "cell_type": "code",
      "source": [
        "!kaggle datasets download -d arnavvvvv/anime-dataset\n"
      ],
      "metadata": {
        "colab": {
          "base_uri": "https://localhost:8080/"
        },
        "id": "0OeuSnrEYnsQ",
        "outputId": "fa1a5923-ff7b-440d-e238-9f1062ce02c7"
      },
      "execution_count": 3,
      "outputs": [
        {
          "output_type": "stream",
          "name": "stdout",
          "text": [
            "Downloading anime-dataset.zip to /content\n",
            " 89% 192M/217M [00:01<00:00, 123MB/s]\n",
            "100% 217M/217M [00:01<00:00, 153MB/s]\n"
          ]
        }
      ]
    },
    {
      "cell_type": "code",
      "source": [
        "!unzip -q anime-dataset.zip\n"
      ],
      "metadata": {
        "id": "izJ4O-8XYuz1"
      },
      "execution_count": 4,
      "outputs": []
    },
    {
      "cell_type": "markdown",
      "source": [
        "### 1. IMPORTING LIBRARIES AND DATA"
      ],
      "metadata": {
        "id": "BESDKiRjY3KP"
      }
    },
    {
      "cell_type": "code",
      "source": [
        "import pandas as pd\n",
        "import numpy as np\n",
        "import matplotlib.pyplot as plt\n",
        "import seaborn as sns"
      ],
      "metadata": {
        "id": "ZVq4K8fwYzI9"
      },
      "execution_count": 111,
      "outputs": []
    },
    {
      "cell_type": "code",
      "source": [
        "df = pd.read_csv(\"/content/animes.csv\")"
      ],
      "metadata": {
        "id": "LigM5VSAY8qB"
      },
      "execution_count": 112,
      "outputs": []
    },
    {
      "cell_type": "code",
      "source": [
        "df.head(1)"
      ],
      "metadata": {
        "colab": {
          "base_uri": "https://localhost:8080/",
          "height": 187
        },
        "id": "ECbXey49ZFqJ",
        "outputId": "01c9c4dd-53f4-4867-8d2d-d587b1caccce"
      },
      "execution_count": 113,
      "outputs": [
        {
          "output_type": "execute_result",
          "data": {
            "text/plain": [
              "     uid                    title  \\\n",
              "0  28891  Haikyuu!! Second Season   \n",
              "\n",
              "                                            synopsis  \\\n",
              "0  Following their participation at the Inter-Hig...   \n",
              "\n",
              "                                               genre  \\\n",
              "0  ['Comedy', 'Sports', 'Drama', 'School', 'Shoun...   \n",
              "\n",
              "                         aired  episodes  members  popularity  ranked  score  \\\n",
              "0  Oct 4, 2015 to Mar 27, 2016      25.0   489888         141    25.0   8.82   \n",
              "\n",
              "                                             img_url  \\\n",
              "0  https://cdn.myanimelist.net/images/anime/9/766...   \n",
              "\n",
              "                                                link  \n",
              "0  https://myanimelist.net/anime/28891/Haikyuu_Se...  "
            ],
            "text/html": [
              "\n",
              "  <div id=\"df-94cd1faa-103a-42e4-b8bf-4bc22aa57a8b\" class=\"colab-df-container\">\n",
              "    <div>\n",
              "<style scoped>\n",
              "    .dataframe tbody tr th:only-of-type {\n",
              "        vertical-align: middle;\n",
              "    }\n",
              "\n",
              "    .dataframe tbody tr th {\n",
              "        vertical-align: top;\n",
              "    }\n",
              "\n",
              "    .dataframe thead th {\n",
              "        text-align: right;\n",
              "    }\n",
              "</style>\n",
              "<table border=\"1\" class=\"dataframe\">\n",
              "  <thead>\n",
              "    <tr style=\"text-align: right;\">\n",
              "      <th></th>\n",
              "      <th>uid</th>\n",
              "      <th>title</th>\n",
              "      <th>synopsis</th>\n",
              "      <th>genre</th>\n",
              "      <th>aired</th>\n",
              "      <th>episodes</th>\n",
              "      <th>members</th>\n",
              "      <th>popularity</th>\n",
              "      <th>ranked</th>\n",
              "      <th>score</th>\n",
              "      <th>img_url</th>\n",
              "      <th>link</th>\n",
              "    </tr>\n",
              "  </thead>\n",
              "  <tbody>\n",
              "    <tr>\n",
              "      <th>0</th>\n",
              "      <td>28891</td>\n",
              "      <td>Haikyuu!! Second Season</td>\n",
              "      <td>Following their participation at the Inter-Hig...</td>\n",
              "      <td>['Comedy', 'Sports', 'Drama', 'School', 'Shoun...</td>\n",
              "      <td>Oct 4, 2015 to Mar 27, 2016</td>\n",
              "      <td>25.0</td>\n",
              "      <td>489888</td>\n",
              "      <td>141</td>\n",
              "      <td>25.0</td>\n",
              "      <td>8.82</td>\n",
              "      <td>https://cdn.myanimelist.net/images/anime/9/766...</td>\n",
              "      <td>https://myanimelist.net/anime/28891/Haikyuu_Se...</td>\n",
              "    </tr>\n",
              "  </tbody>\n",
              "</table>\n",
              "</div>\n",
              "    <div class=\"colab-df-buttons\">\n",
              "\n",
              "  <div class=\"colab-df-container\">\n",
              "    <button class=\"colab-df-convert\" onclick=\"convertToInteractive('df-94cd1faa-103a-42e4-b8bf-4bc22aa57a8b')\"\n",
              "            title=\"Convert this dataframe to an interactive table.\"\n",
              "            style=\"display:none;\">\n",
              "\n",
              "  <svg xmlns=\"http://www.w3.org/2000/svg\" height=\"24px\" viewBox=\"0 -960 960 960\">\n",
              "    <path d=\"M120-120v-720h720v720H120Zm60-500h600v-160H180v160Zm220 220h160v-160H400v160Zm0 220h160v-160H400v160ZM180-400h160v-160H180v160Zm440 0h160v-160H620v160ZM180-180h160v-160H180v160Zm440 0h160v-160H620v160Z\"/>\n",
              "  </svg>\n",
              "    </button>\n",
              "\n",
              "  <style>\n",
              "    .colab-df-container {\n",
              "      display:flex;\n",
              "      gap: 12px;\n",
              "    }\n",
              "\n",
              "    .colab-df-convert {\n",
              "      background-color: #E8F0FE;\n",
              "      border: none;\n",
              "      border-radius: 50%;\n",
              "      cursor: pointer;\n",
              "      display: none;\n",
              "      fill: #1967D2;\n",
              "      height: 32px;\n",
              "      padding: 0 0 0 0;\n",
              "      width: 32px;\n",
              "    }\n",
              "\n",
              "    .colab-df-convert:hover {\n",
              "      background-color: #E2EBFA;\n",
              "      box-shadow: 0px 1px 2px rgba(60, 64, 67, 0.3), 0px 1px 3px 1px rgba(60, 64, 67, 0.15);\n",
              "      fill: #174EA6;\n",
              "    }\n",
              "\n",
              "    .colab-df-buttons div {\n",
              "      margin-bottom: 4px;\n",
              "    }\n",
              "\n",
              "    [theme=dark] .colab-df-convert {\n",
              "      background-color: #3B4455;\n",
              "      fill: #D2E3FC;\n",
              "    }\n",
              "\n",
              "    [theme=dark] .colab-df-convert:hover {\n",
              "      background-color: #434B5C;\n",
              "      box-shadow: 0px 1px 3px 1px rgba(0, 0, 0, 0.15);\n",
              "      filter: drop-shadow(0px 1px 2px rgba(0, 0, 0, 0.3));\n",
              "      fill: #FFFFFF;\n",
              "    }\n",
              "  </style>\n",
              "\n",
              "    <script>\n",
              "      const buttonEl =\n",
              "        document.querySelector('#df-94cd1faa-103a-42e4-b8bf-4bc22aa57a8b button.colab-df-convert');\n",
              "      buttonEl.style.display =\n",
              "        google.colab.kernel.accessAllowed ? 'block' : 'none';\n",
              "\n",
              "      async function convertToInteractive(key) {\n",
              "        const element = document.querySelector('#df-94cd1faa-103a-42e4-b8bf-4bc22aa57a8b');\n",
              "        const dataTable =\n",
              "          await google.colab.kernel.invokeFunction('convertToInteractive',\n",
              "                                                    [key], {});\n",
              "        if (!dataTable) return;\n",
              "\n",
              "        const docLinkHtml = 'Like what you see? Visit the ' +\n",
              "          '<a target=\"_blank\" href=https://colab.research.google.com/notebooks/data_table.ipynb>data table notebook</a>'\n",
              "          + ' to learn more about interactive tables.';\n",
              "        element.innerHTML = '';\n",
              "        dataTable['output_type'] = 'display_data';\n",
              "        await google.colab.output.renderOutput(dataTable, element);\n",
              "        const docLink = document.createElement('div');\n",
              "        docLink.innerHTML = docLinkHtml;\n",
              "        element.appendChild(docLink);\n",
              "      }\n",
              "    </script>\n",
              "  </div>\n",
              "\n",
              "\n",
              "    </div>\n",
              "  </div>\n"
            ],
            "application/vnd.google.colaboratory.intrinsic+json": {
              "type": "dataframe",
              "variable_name": "df",
              "summary": "{\n  \"name\": \"df\",\n  \"rows\": 19311,\n  \"fields\": [\n    {\n      \"column\": \"uid\",\n      \"properties\": {\n        \"dtype\": \"number\",\n        \"std\": 14271,\n        \"min\": 1,\n        \"max\": 40960,\n        \"num_unique_values\": 16216,\n        \"samples\": [\n          4802,\n          36560,\n          16782\n        ],\n        \"semantic_type\": \"\",\n        \"description\": \"\"\n      }\n    },\n    {\n      \"column\": \"title\",\n      \"properties\": {\n        \"dtype\": \"string\",\n        \"num_unique_values\": 16214,\n        \"samples\": [\n          \"Hakuouki Sekkaroku\",\n          \"Chimera\",\n          \"Ryoujoku Famiresu Choukyou Menu\"\n        ],\n        \"semantic_type\": \"\",\n        \"description\": \"\"\n      }\n    },\n    {\n      \"column\": \"synopsis\",\n      \"properties\": {\n        \"dtype\": \"string\",\n        \"num_unique_values\": 15194,\n        \"samples\": [\n          \"MMD music video for the title track  Desktop Cinderella feat. Hatsune Miku  by Hachioji-P. It was included on DVD with the release of his fourth studio album on September 2, 2015.\",\n          \"Donning a special mask, a young man defends the planet.  \\n \\n(Source: AniDB) \",\n          \"An original anime DVD bundled with a limited edition of saxyun's 4th Yurumates manga volume. The bundled DVD contained the opening animation sequence for the television anime series and its first episode, as well as two unaired episodes. The limited edition also included an exclusive booklet. \\r\\n \\r\\n(Source: ANN)\"\n        ],\n        \"semantic_type\": \"\",\n        \"description\": \"\"\n      }\n    },\n    {\n      \"column\": \"genre\",\n      \"properties\": {\n        \"dtype\": \"category\",\n        \"num_unique_values\": 4851,\n        \"samples\": [\n          \"['Adventure', 'Military', 'Sci-Fi', 'Shounen']\",\n          \"['Music', 'Vampire']\",\n          \"['Mystery', 'Historical']\"\n        ],\n        \"semantic_type\": \"\",\n        \"description\": \"\"\n      }\n    },\n    {\n      \"column\": \"aired\",\n      \"properties\": {\n        \"dtype\": \"string\",\n        \"num_unique_values\": 11127,\n        \"samples\": [\n          \"Aug 22, 2013 to ?\",\n          \"Apr 23, 2010 to Mar 9, 2011\",\n          \"Jul 7, 2012 to Mar 30, 2013\"\n        ],\n        \"semantic_type\": \"\",\n        \"description\": \"\"\n      }\n    },\n    {\n      \"column\": \"episodes\",\n      \"properties\": {\n        \"dtype\": \"number\",\n        \"std\": 47.95038606184034,\n        \"min\": 1.0,\n        \"max\": 3057.0,\n        \"num_unique_values\": 199,\n        \"samples\": [\n          161.0,\n          6.0,\n          475.0\n        ],\n        \"semantic_type\": \"\",\n        \"description\": \"\"\n      }\n    },\n    {\n      \"column\": \"members\",\n      \"properties\": {\n        \"dtype\": \"number\",\n        \"std\": 112177,\n        \"min\": 25,\n        \"max\": 1871043,\n        \"num_unique_values\": 8803,\n        \"samples\": [\n          36514,\n          64044,\n          87955\n        ],\n        \"semantic_type\": \"\",\n        \"description\": \"\"\n      }\n    },\n    {\n      \"column\": \"popularity\",\n      \"properties\": {\n        \"dtype\": \"number\",\n        \"std\": 4676,\n        \"min\": 1,\n        \"max\": 16338,\n        \"num_unique_values\": 14382,\n        \"samples\": [\n          13734,\n          4027,\n          4853\n        ],\n        \"semantic_type\": \"\",\n        \"description\": \"\"\n      }\n    },\n    {\n      \"column\": \"ranked\",\n      \"properties\": {\n        \"dtype\": \"number\",\n        \"std\": 4390.018767563312,\n        \"min\": 1.0,\n        \"max\": 14675.0,\n        \"num_unique_values\": 14422,\n        \"samples\": [\n          12261.0,\n          8741.0,\n          5916.0\n        ],\n        \"semantic_type\": \"\",\n        \"description\": \"\"\n      }\n    },\n    {\n      \"column\": \"score\",\n      \"properties\": {\n        \"dtype\": \"number\",\n        \"std\": 1.0079406464397713,\n        \"min\": 1.25,\n        \"max\": 9.23,\n        \"num_unique_values\": 580,\n        \"samples\": [\n          3.42,\n          6.99,\n          9.04\n        ],\n        \"semantic_type\": \"\",\n        \"description\": \"\"\n      }\n    },\n    {\n      \"column\": \"img_url\",\n      \"properties\": {\n        \"dtype\": \"string\",\n        \"num_unique_values\": 16051,\n        \"samples\": [\n          \"https://cdn.myanimelist.net/images/anime/13/17624.jpg\",\n          \"https://cdn.myanimelist.net/images/anime/9/46873.jpg\",\n          \"https://cdn.myanimelist.net/images/anime/3/53621.jpg\"\n        ],\n        \"semantic_type\": \"\",\n        \"description\": \"\"\n      }\n    },\n    {\n      \"column\": \"link\",\n      \"properties\": {\n        \"dtype\": \"string\",\n        \"num_unique_values\": 16216,\n        \"samples\": [\n          \"https://myanimelist.net/anime/4802/Kawarazaki-ke_no_Ichizoku_The_Animation\",\n          \"https://myanimelist.net/anime/36560/Boku_no_Kanojo_ga_Majimesugiru_Sho-bitch_na_Ken_OVA\",\n          \"https://myanimelist.net/anime/16782/Kotonoha_no_Niwa\"\n        ],\n        \"semantic_type\": \"\",\n        \"description\": \"\"\n      }\n    }\n  ]\n}"
            }
          },
          "metadata": {},
          "execution_count": 113
        }
      ]
    },
    {
      "cell_type": "code",
      "source": [
        "df.shape"
      ],
      "metadata": {
        "colab": {
          "base_uri": "https://localhost:8080/"
        },
        "id": "s0eUnjTLZG5T",
        "outputId": "bd0a3e0e-5355-4fdb-ff56-9e923ed614f6"
      },
      "execution_count": 114,
      "outputs": [
        {
          "output_type": "execute_result",
          "data": {
            "text/plain": [
              "(19311, 12)"
            ]
          },
          "metadata": {},
          "execution_count": 114
        }
      ]
    },
    {
      "cell_type": "code",
      "source": [
        "df.isnull().sum()"
      ],
      "metadata": {
        "colab": {
          "base_uri": "https://localhost:8080/"
        },
        "id": "RzpP8DjRZIfJ",
        "outputId": "497d9aec-28ba-4d96-ffda-6dea61667632"
      },
      "execution_count": 115,
      "outputs": [
        {
          "output_type": "execute_result",
          "data": {
            "text/plain": [
              "uid              0\n",
              "title            0\n",
              "synopsis       975\n",
              "genre            0\n",
              "aired            0\n",
              "episodes       706\n",
              "members          0\n",
              "popularity       0\n",
              "ranked        3212\n",
              "score          579\n",
              "img_url        180\n",
              "link             0\n",
              "dtype: int64"
            ]
          },
          "metadata": {},
          "execution_count": 115
        }
      ]
    },
    {
      "cell_type": "code",
      "source": [
        "df.duplicated().sum()"
      ],
      "metadata": {
        "colab": {
          "base_uri": "https://localhost:8080/"
        },
        "id": "1w8ILo72ZLGw",
        "outputId": "2941d820-6c30-47f9-c163-d1d85ddea089"
      },
      "execution_count": 116,
      "outputs": [
        {
          "output_type": "execute_result",
          "data": {
            "text/plain": [
              "2943"
            ]
          },
          "metadata": {},
          "execution_count": 116
        }
      ]
    },
    {
      "cell_type": "code",
      "source": [
        "df.drop_duplicates(inplace=True)"
      ],
      "metadata": {
        "id": "7XsFp1DFZRpS"
      },
      "execution_count": 117,
      "outputs": []
    },
    {
      "cell_type": "code",
      "source": [
        "df.dropna(inplace=True)"
      ],
      "metadata": {
        "id": "plAXiUdiZbds"
      },
      "execution_count": 118,
      "outputs": []
    },
    {
      "cell_type": "code",
      "source": [
        "df.shape"
      ],
      "metadata": {
        "colab": {
          "base_uri": "https://localhost:8080/"
        },
        "id": "XKU9UlXpZd2M",
        "outputId": "d316d5ea-8d16-4401-d929-b0d4183d3bf4"
      },
      "execution_count": 119,
      "outputs": [
        {
          "output_type": "execute_result",
          "data": {
            "text/plain": [
              "(13731, 12)"
            ]
          },
          "metadata": {},
          "execution_count": 119
        }
      ]
    },
    {
      "cell_type": "code",
      "source": [
        "df.isnull().sum()"
      ],
      "metadata": {
        "colab": {
          "base_uri": "https://localhost:8080/"
        },
        "id": "ZR7xFkrkZe8c",
        "outputId": "e0d90ece-d773-48f8-d223-d96af93fcae0"
      },
      "execution_count": 120,
      "outputs": [
        {
          "output_type": "execute_result",
          "data": {
            "text/plain": [
              "uid           0\n",
              "title         0\n",
              "synopsis      0\n",
              "genre         0\n",
              "aired         0\n",
              "episodes      0\n",
              "members       0\n",
              "popularity    0\n",
              "ranked        0\n",
              "score         0\n",
              "img_url       0\n",
              "link          0\n",
              "dtype: int64"
            ]
          },
          "metadata": {},
          "execution_count": 120
        }
      ]
    },
    {
      "cell_type": "markdown",
      "source": [
        "### 2. Dropping IRRELEVANT COLUMNS"
      ],
      "metadata": {
        "id": "5MPu4ip0ap5t"
      }
    },
    {
      "cell_type": "markdown",
      "source": [
        "##### NOT RELEVANT COLUMNS\n",
        "- 1. aired\n",
        "- 2. episodes\n",
        "- 3. members\n",
        "- 4. popularity\n",
        "- 5. ranked\n",
        "- 6. score"
      ],
      "metadata": {
        "id": "NcWmbhjdZx1L"
      }
    },
    {
      "cell_type": "code",
      "source": [
        "columns_to_drop = ['aired', 'episodes', 'members','popularity', 'ranked', 'score',]"
      ],
      "metadata": {
        "id": "gGNkUpXyals2"
      },
      "execution_count": 121,
      "outputs": []
    },
    {
      "cell_type": "code",
      "source": [
        "new_df = df.drop(columns=columns_to_drop)"
      ],
      "metadata": {
        "id": "hbLm3GXnZjnx"
      },
      "execution_count": 122,
      "outputs": []
    },
    {
      "cell_type": "code",
      "source": [
        "new_df.head(1)"
      ],
      "metadata": {
        "colab": {
          "base_uri": "https://localhost:8080/",
          "height": 150
        },
        "id": "OFMJ3cbJZu0F",
        "outputId": "215afb8c-ea97-447d-e874-24e4352aee7b"
      },
      "execution_count": 123,
      "outputs": [
        {
          "output_type": "execute_result",
          "data": {
            "text/plain": [
              "     uid                    title  \\\n",
              "0  28891  Haikyuu!! Second Season   \n",
              "\n",
              "                                            synopsis  \\\n",
              "0  Following their participation at the Inter-Hig...   \n",
              "\n",
              "                                               genre  \\\n",
              "0  ['Comedy', 'Sports', 'Drama', 'School', 'Shoun...   \n",
              "\n",
              "                                             img_url  \\\n",
              "0  https://cdn.myanimelist.net/images/anime/9/766...   \n",
              "\n",
              "                                                link  \n",
              "0  https://myanimelist.net/anime/28891/Haikyuu_Se...  "
            ],
            "text/html": [
              "\n",
              "  <div id=\"df-8feed2ab-b819-4f78-8eb1-4fddbb593dcb\" class=\"colab-df-container\">\n",
              "    <div>\n",
              "<style scoped>\n",
              "    .dataframe tbody tr th:only-of-type {\n",
              "        vertical-align: middle;\n",
              "    }\n",
              "\n",
              "    .dataframe tbody tr th {\n",
              "        vertical-align: top;\n",
              "    }\n",
              "\n",
              "    .dataframe thead th {\n",
              "        text-align: right;\n",
              "    }\n",
              "</style>\n",
              "<table border=\"1\" class=\"dataframe\">\n",
              "  <thead>\n",
              "    <tr style=\"text-align: right;\">\n",
              "      <th></th>\n",
              "      <th>uid</th>\n",
              "      <th>title</th>\n",
              "      <th>synopsis</th>\n",
              "      <th>genre</th>\n",
              "      <th>img_url</th>\n",
              "      <th>link</th>\n",
              "    </tr>\n",
              "  </thead>\n",
              "  <tbody>\n",
              "    <tr>\n",
              "      <th>0</th>\n",
              "      <td>28891</td>\n",
              "      <td>Haikyuu!! Second Season</td>\n",
              "      <td>Following their participation at the Inter-Hig...</td>\n",
              "      <td>['Comedy', 'Sports', 'Drama', 'School', 'Shoun...</td>\n",
              "      <td>https://cdn.myanimelist.net/images/anime/9/766...</td>\n",
              "      <td>https://myanimelist.net/anime/28891/Haikyuu_Se...</td>\n",
              "    </tr>\n",
              "  </tbody>\n",
              "</table>\n",
              "</div>\n",
              "    <div class=\"colab-df-buttons\">\n",
              "\n",
              "  <div class=\"colab-df-container\">\n",
              "    <button class=\"colab-df-convert\" onclick=\"convertToInteractive('df-8feed2ab-b819-4f78-8eb1-4fddbb593dcb')\"\n",
              "            title=\"Convert this dataframe to an interactive table.\"\n",
              "            style=\"display:none;\">\n",
              "\n",
              "  <svg xmlns=\"http://www.w3.org/2000/svg\" height=\"24px\" viewBox=\"0 -960 960 960\">\n",
              "    <path d=\"M120-120v-720h720v720H120Zm60-500h600v-160H180v160Zm220 220h160v-160H400v160Zm0 220h160v-160H400v160ZM180-400h160v-160H180v160Zm440 0h160v-160H620v160ZM180-180h160v-160H180v160Zm440 0h160v-160H620v160Z\"/>\n",
              "  </svg>\n",
              "    </button>\n",
              "\n",
              "  <style>\n",
              "    .colab-df-container {\n",
              "      display:flex;\n",
              "      gap: 12px;\n",
              "    }\n",
              "\n",
              "    .colab-df-convert {\n",
              "      background-color: #E8F0FE;\n",
              "      border: none;\n",
              "      border-radius: 50%;\n",
              "      cursor: pointer;\n",
              "      display: none;\n",
              "      fill: #1967D2;\n",
              "      height: 32px;\n",
              "      padding: 0 0 0 0;\n",
              "      width: 32px;\n",
              "    }\n",
              "\n",
              "    .colab-df-convert:hover {\n",
              "      background-color: #E2EBFA;\n",
              "      box-shadow: 0px 1px 2px rgba(60, 64, 67, 0.3), 0px 1px 3px 1px rgba(60, 64, 67, 0.15);\n",
              "      fill: #174EA6;\n",
              "    }\n",
              "\n",
              "    .colab-df-buttons div {\n",
              "      margin-bottom: 4px;\n",
              "    }\n",
              "\n",
              "    [theme=dark] .colab-df-convert {\n",
              "      background-color: #3B4455;\n",
              "      fill: #D2E3FC;\n",
              "    }\n",
              "\n",
              "    [theme=dark] .colab-df-convert:hover {\n",
              "      background-color: #434B5C;\n",
              "      box-shadow: 0px 1px 3px 1px rgba(0, 0, 0, 0.15);\n",
              "      filter: drop-shadow(0px 1px 2px rgba(0, 0, 0, 0.3));\n",
              "      fill: #FFFFFF;\n",
              "    }\n",
              "  </style>\n",
              "\n",
              "    <script>\n",
              "      const buttonEl =\n",
              "        document.querySelector('#df-8feed2ab-b819-4f78-8eb1-4fddbb593dcb button.colab-df-convert');\n",
              "      buttonEl.style.display =\n",
              "        google.colab.kernel.accessAllowed ? 'block' : 'none';\n",
              "\n",
              "      async function convertToInteractive(key) {\n",
              "        const element = document.querySelector('#df-8feed2ab-b819-4f78-8eb1-4fddbb593dcb');\n",
              "        const dataTable =\n",
              "          await google.colab.kernel.invokeFunction('convertToInteractive',\n",
              "                                                    [key], {});\n",
              "        if (!dataTable) return;\n",
              "\n",
              "        const docLinkHtml = 'Like what you see? Visit the ' +\n",
              "          '<a target=\"_blank\" href=https://colab.research.google.com/notebooks/data_table.ipynb>data table notebook</a>'\n",
              "          + ' to learn more about interactive tables.';\n",
              "        element.innerHTML = '';\n",
              "        dataTable['output_type'] = 'display_data';\n",
              "        await google.colab.output.renderOutput(dataTable, element);\n",
              "        const docLink = document.createElement('div');\n",
              "        docLink.innerHTML = docLinkHtml;\n",
              "        element.appendChild(docLink);\n",
              "      }\n",
              "    </script>\n",
              "  </div>\n",
              "\n",
              "\n",
              "    </div>\n",
              "  </div>\n"
            ],
            "application/vnd.google.colaboratory.intrinsic+json": {
              "type": "dataframe",
              "variable_name": "new_df",
              "summary": "{\n  \"name\": \"new_df\",\n  \"rows\": 13731,\n  \"fields\": [\n    {\n      \"column\": \"uid\",\n      \"properties\": {\n        \"dtype\": \"number\",\n        \"std\": 13989,\n        \"min\": 1,\n        \"max\": 40849,\n        \"num_unique_values\": 13677,\n        \"samples\": [\n          19191,\n          321,\n          39172\n        ],\n        \"semantic_type\": \"\",\n        \"description\": \"\"\n      }\n    },\n    {\n      \"column\": \"title\",\n      \"properties\": {\n        \"dtype\": \"string\",\n        \"num_unique_values\": 13675,\n        \"samples\": [\n          \"Kono Danshi, Ningyo Hiroimashita.\",\n          \"Najica Dengeki Sakusen\",\n          \"Irotoridori no Melody\"\n        ],\n        \"semantic_type\": \"\",\n        \"description\": \"\"\n      }\n    },\n    {\n      \"column\": \"synopsis\",\n      \"properties\": {\n        \"dtype\": \"string\",\n        \"num_unique_values\": 13444,\n        \"samples\": [\n          \"An educational film about exclusion and isolation of people in Japan. Specifically aimed at adult isolation.\",\n          \"Played at Dengeki Bunko's Movie Festival on 21 April 2007 before the Shakugan no Shana, Inukami! and Kino no Tabi movies. It was later released on DVD and sold at Dengeki's 15th Anniversary event.\",\n          \"Recap of Mobile Suit Gundam, Mobile Suit Zeta Gundam, Mobile Suit Gundam ZZ and Mobile Suit Gundam: Char's Counterattack focusing on Newtype and Zeonism ideals told before UC episode 7. \\n \\nIncluded as a bonus on a Volume 7 Blu-ray release of the  Mobile Suit Gundam Unicorn  OVA.\"\n        ],\n        \"semantic_type\": \"\",\n        \"description\": \"\"\n      }\n    },\n    {\n      \"column\": \"genre\",\n      \"properties\": {\n        \"dtype\": \"category\",\n        \"num_unique_values\": 4495,\n        \"samples\": [\n          \"['Action', 'Comedy', 'Supernatural']\",\n          \"['Action', 'Drama', 'Historical', 'Supernatural']\",\n          \"['Action', 'Sci-Fi', 'Comedy', 'School']\"\n        ],\n        \"semantic_type\": \"\",\n        \"description\": \"\"\n      }\n    },\n    {\n      \"column\": \"img_url\",\n      \"properties\": {\n        \"dtype\": \"string\",\n        \"num_unique_values\": 13677,\n        \"samples\": [\n          \"https://cdn.myanimelist.net/images/anime/8/52135.jpg\",\n          \"https://cdn.myanimelist.net/images/anime/11/22210.jpg\",\n          \"https://cdn.myanimelist.net/images/anime/1492/98688.jpg\"\n        ],\n        \"semantic_type\": \"\",\n        \"description\": \"\"\n      }\n    },\n    {\n      \"column\": \"link\",\n      \"properties\": {\n        \"dtype\": \"string\",\n        \"num_unique_values\": 13677,\n        \"samples\": [\n          \"https://myanimelist.net/anime/19191/Koukaku_Kidoutai_Arise__Ghost_in_the_Shell_-_Border_2_Ghost_Whispers\",\n          \"https://myanimelist.net/anime/321/Najica_Dengeki_Sakusen\",\n          \"https://myanimelist.net/anime/39172/Kaisei\"\n        ],\n        \"semantic_type\": \"\",\n        \"description\": \"\"\n      }\n    }\n  ]\n}"
            }
          },
          "metadata": {},
          "execution_count": 123
        }
      ]
    },
    {
      "cell_type": "markdown",
      "source": [
        "### 3. EXPLORING GENRE COLUMN"
      ],
      "metadata": {
        "id": "JJNIL43obqFZ"
      }
    },
    {
      "cell_type": "code",
      "source": [
        "new_df.iloc[0]['genre']"
      ],
      "metadata": {
        "colab": {
          "base_uri": "https://localhost:8080/",
          "height": 36
        },
        "id": "j__nTYHlbRel",
        "outputId": "c35d3415-fdfa-434d-d080-c513143e11f2"
      },
      "execution_count": 124,
      "outputs": [
        {
          "output_type": "execute_result",
          "data": {
            "text/plain": [
              "\"['Comedy', 'Sports', 'Drama', 'School', 'Shounen']\""
            ],
            "application/vnd.google.colaboratory.intrinsic+json": {
              "type": "string"
            }
          },
          "metadata": {},
          "execution_count": 124
        }
      ]
    },
    {
      "cell_type": "code",
      "source": [
        "import ast\n",
        "\n",
        "def convert_str_to_list(genre_str):\n",
        "    try:\n",
        "        # Using the ast module to safely evaluate the string as a literal expression\n",
        "        genre_list = ast.literal_eval(genre_str)\n",
        "        if isinstance(genre_list, list):\n",
        "            return genre_list\n",
        "        else:\n",
        "            return []\n",
        "    except (SyntaxError, ValueError):\n",
        "        return []\n",
        "\n",
        "# Assuming 'genre' is the name of your column\n",
        "new_df['genre'] = new_df['genre'].apply(convert_str_to_list)\n"
      ],
      "metadata": {
        "id": "FFA-uqg3ejaj"
      },
      "execution_count": 125,
      "outputs": []
    },
    {
      "cell_type": "code",
      "source": [
        "type(new_df.iloc[0]['genre'])"
      ],
      "metadata": {
        "colab": {
          "base_uri": "https://localhost:8080/"
        },
        "id": "8bdRuzWTb878",
        "outputId": "b7f9e1e4-30de-422c-ab57-9560b2643efa"
      },
      "execution_count": 126,
      "outputs": [
        {
          "output_type": "execute_result",
          "data": {
            "text/plain": [
              "list"
            ]
          },
          "metadata": {},
          "execution_count": 126
        }
      ]
    },
    {
      "cell_type": "code",
      "source": [
        "new_df.head(1)"
      ],
      "metadata": {
        "colab": {
          "base_uri": "https://localhost:8080/",
          "height": 150
        },
        "id": "N3Tf23fBeruP",
        "outputId": "a8f8319c-34f9-4271-a9ef-b00f8d555641"
      },
      "execution_count": 127,
      "outputs": [
        {
          "output_type": "execute_result",
          "data": {
            "text/plain": [
              "     uid                    title  \\\n",
              "0  28891  Haikyuu!! Second Season   \n",
              "\n",
              "                                            synopsis  \\\n",
              "0  Following their participation at the Inter-Hig...   \n",
              "\n",
              "                                      genre  \\\n",
              "0  [Comedy, Sports, Drama, School, Shounen]   \n",
              "\n",
              "                                             img_url  \\\n",
              "0  https://cdn.myanimelist.net/images/anime/9/766...   \n",
              "\n",
              "                                                link  \n",
              "0  https://myanimelist.net/anime/28891/Haikyuu_Se...  "
            ],
            "text/html": [
              "\n",
              "  <div id=\"df-4f3a190e-1aba-4040-a1b4-c8cf17c64b93\" class=\"colab-df-container\">\n",
              "    <div>\n",
              "<style scoped>\n",
              "    .dataframe tbody tr th:only-of-type {\n",
              "        vertical-align: middle;\n",
              "    }\n",
              "\n",
              "    .dataframe tbody tr th {\n",
              "        vertical-align: top;\n",
              "    }\n",
              "\n",
              "    .dataframe thead th {\n",
              "        text-align: right;\n",
              "    }\n",
              "</style>\n",
              "<table border=\"1\" class=\"dataframe\">\n",
              "  <thead>\n",
              "    <tr style=\"text-align: right;\">\n",
              "      <th></th>\n",
              "      <th>uid</th>\n",
              "      <th>title</th>\n",
              "      <th>synopsis</th>\n",
              "      <th>genre</th>\n",
              "      <th>img_url</th>\n",
              "      <th>link</th>\n",
              "    </tr>\n",
              "  </thead>\n",
              "  <tbody>\n",
              "    <tr>\n",
              "      <th>0</th>\n",
              "      <td>28891</td>\n",
              "      <td>Haikyuu!! Second Season</td>\n",
              "      <td>Following their participation at the Inter-Hig...</td>\n",
              "      <td>[Comedy, Sports, Drama, School, Shounen]</td>\n",
              "      <td>https://cdn.myanimelist.net/images/anime/9/766...</td>\n",
              "      <td>https://myanimelist.net/anime/28891/Haikyuu_Se...</td>\n",
              "    </tr>\n",
              "  </tbody>\n",
              "</table>\n",
              "</div>\n",
              "    <div class=\"colab-df-buttons\">\n",
              "\n",
              "  <div class=\"colab-df-container\">\n",
              "    <button class=\"colab-df-convert\" onclick=\"convertToInteractive('df-4f3a190e-1aba-4040-a1b4-c8cf17c64b93')\"\n",
              "            title=\"Convert this dataframe to an interactive table.\"\n",
              "            style=\"display:none;\">\n",
              "\n",
              "  <svg xmlns=\"http://www.w3.org/2000/svg\" height=\"24px\" viewBox=\"0 -960 960 960\">\n",
              "    <path d=\"M120-120v-720h720v720H120Zm60-500h600v-160H180v160Zm220 220h160v-160H400v160Zm0 220h160v-160H400v160ZM180-400h160v-160H180v160Zm440 0h160v-160H620v160ZM180-180h160v-160H180v160Zm440 0h160v-160H620v160Z\"/>\n",
              "  </svg>\n",
              "    </button>\n",
              "\n",
              "  <style>\n",
              "    .colab-df-container {\n",
              "      display:flex;\n",
              "      gap: 12px;\n",
              "    }\n",
              "\n",
              "    .colab-df-convert {\n",
              "      background-color: #E8F0FE;\n",
              "      border: none;\n",
              "      border-radius: 50%;\n",
              "      cursor: pointer;\n",
              "      display: none;\n",
              "      fill: #1967D2;\n",
              "      height: 32px;\n",
              "      padding: 0 0 0 0;\n",
              "      width: 32px;\n",
              "    }\n",
              "\n",
              "    .colab-df-convert:hover {\n",
              "      background-color: #E2EBFA;\n",
              "      box-shadow: 0px 1px 2px rgba(60, 64, 67, 0.3), 0px 1px 3px 1px rgba(60, 64, 67, 0.15);\n",
              "      fill: #174EA6;\n",
              "    }\n",
              "\n",
              "    .colab-df-buttons div {\n",
              "      margin-bottom: 4px;\n",
              "    }\n",
              "\n",
              "    [theme=dark] .colab-df-convert {\n",
              "      background-color: #3B4455;\n",
              "      fill: #D2E3FC;\n",
              "    }\n",
              "\n",
              "    [theme=dark] .colab-df-convert:hover {\n",
              "      background-color: #434B5C;\n",
              "      box-shadow: 0px 1px 3px 1px rgba(0, 0, 0, 0.15);\n",
              "      filter: drop-shadow(0px 1px 2px rgba(0, 0, 0, 0.3));\n",
              "      fill: #FFFFFF;\n",
              "    }\n",
              "  </style>\n",
              "\n",
              "    <script>\n",
              "      const buttonEl =\n",
              "        document.querySelector('#df-4f3a190e-1aba-4040-a1b4-c8cf17c64b93 button.colab-df-convert');\n",
              "      buttonEl.style.display =\n",
              "        google.colab.kernel.accessAllowed ? 'block' : 'none';\n",
              "\n",
              "      async function convertToInteractive(key) {\n",
              "        const element = document.querySelector('#df-4f3a190e-1aba-4040-a1b4-c8cf17c64b93');\n",
              "        const dataTable =\n",
              "          await google.colab.kernel.invokeFunction('convertToInteractive',\n",
              "                                                    [key], {});\n",
              "        if (!dataTable) return;\n",
              "\n",
              "        const docLinkHtml = 'Like what you see? Visit the ' +\n",
              "          '<a target=\"_blank\" href=https://colab.research.google.com/notebooks/data_table.ipynb>data table notebook</a>'\n",
              "          + ' to learn more about interactive tables.';\n",
              "        element.innerHTML = '';\n",
              "        dataTable['output_type'] = 'display_data';\n",
              "        await google.colab.output.renderOutput(dataTable, element);\n",
              "        const docLink = document.createElement('div');\n",
              "        docLink.innerHTML = docLinkHtml;\n",
              "        element.appendChild(docLink);\n",
              "      }\n",
              "    </script>\n",
              "  </div>\n",
              "\n",
              "\n",
              "    </div>\n",
              "  </div>\n"
            ],
            "application/vnd.google.colaboratory.intrinsic+json": {
              "type": "dataframe",
              "variable_name": "new_df",
              "summary": "{\n  \"name\": \"new_df\",\n  \"rows\": 13731,\n  \"fields\": [\n    {\n      \"column\": \"uid\",\n      \"properties\": {\n        \"dtype\": \"number\",\n        \"std\": 13989,\n        \"min\": 1,\n        \"max\": 40849,\n        \"num_unique_values\": 13677,\n        \"samples\": [\n          19191,\n          321,\n          39172\n        ],\n        \"semantic_type\": \"\",\n        \"description\": \"\"\n      }\n    },\n    {\n      \"column\": \"title\",\n      \"properties\": {\n        \"dtype\": \"string\",\n        \"num_unique_values\": 13675,\n        \"samples\": [\n          \"Kono Danshi, Ningyo Hiroimashita.\",\n          \"Najica Dengeki Sakusen\",\n          \"Irotoridori no Melody\"\n        ],\n        \"semantic_type\": \"\",\n        \"description\": \"\"\n      }\n    },\n    {\n      \"column\": \"synopsis\",\n      \"properties\": {\n        \"dtype\": \"string\",\n        \"num_unique_values\": 13444,\n        \"samples\": [\n          \"An educational film about exclusion and isolation of people in Japan. Specifically aimed at adult isolation.\",\n          \"Played at Dengeki Bunko's Movie Festival on 21 April 2007 before the Shakugan no Shana, Inukami! and Kino no Tabi movies. It was later released on DVD and sold at Dengeki's 15th Anniversary event.\",\n          \"Recap of Mobile Suit Gundam, Mobile Suit Zeta Gundam, Mobile Suit Gundam ZZ and Mobile Suit Gundam: Char's Counterattack focusing on Newtype and Zeonism ideals told before UC episode 7. \\n \\nIncluded as a bonus on a Volume 7 Blu-ray release of the  Mobile Suit Gundam Unicorn  OVA.\"\n        ],\n        \"semantic_type\": \"\",\n        \"description\": \"\"\n      }\n    },\n    {\n      \"column\": \"genre\",\n      \"properties\": {\n        \"dtype\": \"object\",\n        \"semantic_type\": \"\",\n        \"description\": \"\"\n      }\n    },\n    {\n      \"column\": \"img_url\",\n      \"properties\": {\n        \"dtype\": \"string\",\n        \"num_unique_values\": 13677,\n        \"samples\": [\n          \"https://cdn.myanimelist.net/images/anime/8/52135.jpg\",\n          \"https://cdn.myanimelist.net/images/anime/11/22210.jpg\",\n          \"https://cdn.myanimelist.net/images/anime/1492/98688.jpg\"\n        ],\n        \"semantic_type\": \"\",\n        \"description\": \"\"\n      }\n    },\n    {\n      \"column\": \"link\",\n      \"properties\": {\n        \"dtype\": \"string\",\n        \"num_unique_values\": 13677,\n        \"samples\": [\n          \"https://myanimelist.net/anime/19191/Koukaku_Kidoutai_Arise__Ghost_in_the_Shell_-_Border_2_Ghost_Whispers\",\n          \"https://myanimelist.net/anime/321/Najica_Dengeki_Sakusen\",\n          \"https://myanimelist.net/anime/39172/Kaisei\"\n        ],\n        \"semantic_type\": \"\",\n        \"description\": \"\"\n      }\n    }\n  ]\n}"
            }
          },
          "metadata": {},
          "execution_count": 127
        }
      ]
    },
    {
      "cell_type": "markdown",
      "source": [
        "### 4. EXPLORING SYNOPSIS"
      ],
      "metadata": {
        "id": "T6W-VDMKcci8"
      }
    },
    {
      "cell_type": "code",
      "source": [
        "new_df.iloc[0]['synopsis']"
      ],
      "metadata": {
        "colab": {
          "base_uri": "https://localhost:8080/",
          "height": 162
        },
        "id": "5HW6foM9byBE",
        "outputId": "a41628ba-53c0-41fc-c520-cbf9840a59f0"
      },
      "execution_count": 128,
      "outputs": [
        {
          "output_type": "execute_result",
          "data": {
            "text/plain": [
              "\"Following their participation at the Inter-High, the Karasuno High School volleyball team attempts to refocus their efforts, aiming to conquer the Spring tournament instead.  \\r\\n \\r\\nWhen they receive an invitation from long-standing rival Nekoma High, Karasuno agrees to take part in a large training camp alongside many notable volleyball teams in Tokyo and even some national level players. By playing with some of the toughest teams in Japan, they hope not only to sharpen their skills, but also come up with new attacks that would strengthen them. Moreover, Hinata and Kageyama attempt to devise a more powerful weapon, one that could possibly break the sturdiest of blocks.  \\r\\n \\r\\nFacing what may be their last chance at victory before the senior players graduate, the members of Karasuno's volleyball team must learn to settle their differences and train harder than ever if they hope to overcome formidable opponents old and new—including their archrival Aoba Jousai and its world-class setter Tooru Oikawa. \\r\\n \\r\\n[Written by MAL Rewrite]\""
            ],
            "application/vnd.google.colaboratory.intrinsic+json": {
              "type": "string"
            }
          },
          "metadata": {},
          "execution_count": 128
        }
      ]
    },
    {
      "cell_type": "code",
      "source": [
        "# Convert string to list\n",
        "new_df['synopsis'] = new_df['synopsis'].apply(lambda x:x.split())\n"
      ],
      "metadata": {
        "id": "W9IANQhTciAe"
      },
      "execution_count": 129,
      "outputs": []
    },
    {
      "cell_type": "code",
      "source": [
        "type(new_df.iloc[0]['synopsis'])"
      ],
      "metadata": {
        "colab": {
          "base_uri": "https://localhost:8080/"
        },
        "id": "RomNxeYkeH_H",
        "outputId": "9d2662b4-1c00-4fb7-e803-d41a0aac9af9"
      },
      "execution_count": 130,
      "outputs": [
        {
          "output_type": "execute_result",
          "data": {
            "text/plain": [
              "list"
            ]
          },
          "metadata": {},
          "execution_count": 130
        }
      ]
    },
    {
      "cell_type": "markdown",
      "source": [
        "### 5. SOME DATA PREPROCESSING"
      ],
      "metadata": {
        "id": "Ce57dH_yc2t6"
      }
    },
    {
      "cell_type": "code",
      "source": [
        "new_df[\"tags\"] = new_df[\"genre\"]+new_df[\"synopsis\"]"
      ],
      "metadata": {
        "id": "wKuXYApucxEy"
      },
      "execution_count": 131,
      "outputs": []
    },
    {
      "cell_type": "code",
      "source": [],
      "metadata": {
        "id": "27jF3_dOc-lr"
      },
      "execution_count": 131,
      "outputs": []
    },
    {
      "cell_type": "code",
      "source": [
        "new_df.head(1)"
      ],
      "metadata": {
        "colab": {
          "base_uri": "https://localhost:8080/",
          "height": 167
        },
        "id": "aMXy0LJ2dMvB",
        "outputId": "46cb85d9-d055-427f-c06e-ec49e648bee6"
      },
      "execution_count": 132,
      "outputs": [
        {
          "output_type": "execute_result",
          "data": {
            "text/plain": [
              "     uid                    title  \\\n",
              "0  28891  Haikyuu!! Second Season   \n",
              "\n",
              "                                            synopsis  \\\n",
              "0  [Following, their, participation, at, the, Int...   \n",
              "\n",
              "                                      genre  \\\n",
              "0  [Comedy, Sports, Drama, School, Shounen]   \n",
              "\n",
              "                                             img_url  \\\n",
              "0  https://cdn.myanimelist.net/images/anime/9/766...   \n",
              "\n",
              "                                                link  \\\n",
              "0  https://myanimelist.net/anime/28891/Haikyuu_Se...   \n",
              "\n",
              "                                                tags  \n",
              "0  [Comedy, Sports, Drama, School, Shounen, Follo...  "
            ],
            "text/html": [
              "\n",
              "  <div id=\"df-3a0983b7-13b2-40d3-9a63-290ffa54c2ce\" class=\"colab-df-container\">\n",
              "    <div>\n",
              "<style scoped>\n",
              "    .dataframe tbody tr th:only-of-type {\n",
              "        vertical-align: middle;\n",
              "    }\n",
              "\n",
              "    .dataframe tbody tr th {\n",
              "        vertical-align: top;\n",
              "    }\n",
              "\n",
              "    .dataframe thead th {\n",
              "        text-align: right;\n",
              "    }\n",
              "</style>\n",
              "<table border=\"1\" class=\"dataframe\">\n",
              "  <thead>\n",
              "    <tr style=\"text-align: right;\">\n",
              "      <th></th>\n",
              "      <th>uid</th>\n",
              "      <th>title</th>\n",
              "      <th>synopsis</th>\n",
              "      <th>genre</th>\n",
              "      <th>img_url</th>\n",
              "      <th>link</th>\n",
              "      <th>tags</th>\n",
              "    </tr>\n",
              "  </thead>\n",
              "  <tbody>\n",
              "    <tr>\n",
              "      <th>0</th>\n",
              "      <td>28891</td>\n",
              "      <td>Haikyuu!! Second Season</td>\n",
              "      <td>[Following, their, participation, at, the, Int...</td>\n",
              "      <td>[Comedy, Sports, Drama, School, Shounen]</td>\n",
              "      <td>https://cdn.myanimelist.net/images/anime/9/766...</td>\n",
              "      <td>https://myanimelist.net/anime/28891/Haikyuu_Se...</td>\n",
              "      <td>[Comedy, Sports, Drama, School, Shounen, Follo...</td>\n",
              "    </tr>\n",
              "  </tbody>\n",
              "</table>\n",
              "</div>\n",
              "    <div class=\"colab-df-buttons\">\n",
              "\n",
              "  <div class=\"colab-df-container\">\n",
              "    <button class=\"colab-df-convert\" onclick=\"convertToInteractive('df-3a0983b7-13b2-40d3-9a63-290ffa54c2ce')\"\n",
              "            title=\"Convert this dataframe to an interactive table.\"\n",
              "            style=\"display:none;\">\n",
              "\n",
              "  <svg xmlns=\"http://www.w3.org/2000/svg\" height=\"24px\" viewBox=\"0 -960 960 960\">\n",
              "    <path d=\"M120-120v-720h720v720H120Zm60-500h600v-160H180v160Zm220 220h160v-160H400v160Zm0 220h160v-160H400v160ZM180-400h160v-160H180v160Zm440 0h160v-160H620v160ZM180-180h160v-160H180v160Zm440 0h160v-160H620v160Z\"/>\n",
              "  </svg>\n",
              "    </button>\n",
              "\n",
              "  <style>\n",
              "    .colab-df-container {\n",
              "      display:flex;\n",
              "      gap: 12px;\n",
              "    }\n",
              "\n",
              "    .colab-df-convert {\n",
              "      background-color: #E8F0FE;\n",
              "      border: none;\n",
              "      border-radius: 50%;\n",
              "      cursor: pointer;\n",
              "      display: none;\n",
              "      fill: #1967D2;\n",
              "      height: 32px;\n",
              "      padding: 0 0 0 0;\n",
              "      width: 32px;\n",
              "    }\n",
              "\n",
              "    .colab-df-convert:hover {\n",
              "      background-color: #E2EBFA;\n",
              "      box-shadow: 0px 1px 2px rgba(60, 64, 67, 0.3), 0px 1px 3px 1px rgba(60, 64, 67, 0.15);\n",
              "      fill: #174EA6;\n",
              "    }\n",
              "\n",
              "    .colab-df-buttons div {\n",
              "      margin-bottom: 4px;\n",
              "    }\n",
              "\n",
              "    [theme=dark] .colab-df-convert {\n",
              "      background-color: #3B4455;\n",
              "      fill: #D2E3FC;\n",
              "    }\n",
              "\n",
              "    [theme=dark] .colab-df-convert:hover {\n",
              "      background-color: #434B5C;\n",
              "      box-shadow: 0px 1px 3px 1px rgba(0, 0, 0, 0.15);\n",
              "      filter: drop-shadow(0px 1px 2px rgba(0, 0, 0, 0.3));\n",
              "      fill: #FFFFFF;\n",
              "    }\n",
              "  </style>\n",
              "\n",
              "    <script>\n",
              "      const buttonEl =\n",
              "        document.querySelector('#df-3a0983b7-13b2-40d3-9a63-290ffa54c2ce button.colab-df-convert');\n",
              "      buttonEl.style.display =\n",
              "        google.colab.kernel.accessAllowed ? 'block' : 'none';\n",
              "\n",
              "      async function convertToInteractive(key) {\n",
              "        const element = document.querySelector('#df-3a0983b7-13b2-40d3-9a63-290ffa54c2ce');\n",
              "        const dataTable =\n",
              "          await google.colab.kernel.invokeFunction('convertToInteractive',\n",
              "                                                    [key], {});\n",
              "        if (!dataTable) return;\n",
              "\n",
              "        const docLinkHtml = 'Like what you see? Visit the ' +\n",
              "          '<a target=\"_blank\" href=https://colab.research.google.com/notebooks/data_table.ipynb>data table notebook</a>'\n",
              "          + ' to learn more about interactive tables.';\n",
              "        element.innerHTML = '';\n",
              "        dataTable['output_type'] = 'display_data';\n",
              "        await google.colab.output.renderOutput(dataTable, element);\n",
              "        const docLink = document.createElement('div');\n",
              "        docLink.innerHTML = docLinkHtml;\n",
              "        element.appendChild(docLink);\n",
              "      }\n",
              "    </script>\n",
              "  </div>\n",
              "\n",
              "\n",
              "    </div>\n",
              "  </div>\n"
            ],
            "application/vnd.google.colaboratory.intrinsic+json": {
              "type": "dataframe",
              "variable_name": "new_df",
              "summary": "{\n  \"name\": \"new_df\",\n  \"rows\": 13731,\n  \"fields\": [\n    {\n      \"column\": \"uid\",\n      \"properties\": {\n        \"dtype\": \"number\",\n        \"std\": 13989,\n        \"min\": 1,\n        \"max\": 40849,\n        \"num_unique_values\": 13677,\n        \"samples\": [\n          19191,\n          321,\n          39172\n        ],\n        \"semantic_type\": \"\",\n        \"description\": \"\"\n      }\n    },\n    {\n      \"column\": \"title\",\n      \"properties\": {\n        \"dtype\": \"string\",\n        \"num_unique_values\": 13675,\n        \"samples\": [\n          \"Kono Danshi, Ningyo Hiroimashita.\",\n          \"Najica Dengeki Sakusen\",\n          \"Irotoridori no Melody\"\n        ],\n        \"semantic_type\": \"\",\n        \"description\": \"\"\n      }\n    },\n    {\n      \"column\": \"synopsis\",\n      \"properties\": {\n        \"dtype\": \"object\",\n        \"semantic_type\": \"\",\n        \"description\": \"\"\n      }\n    },\n    {\n      \"column\": \"genre\",\n      \"properties\": {\n        \"dtype\": \"object\",\n        \"semantic_type\": \"\",\n        \"description\": \"\"\n      }\n    },\n    {\n      \"column\": \"img_url\",\n      \"properties\": {\n        \"dtype\": \"string\",\n        \"num_unique_values\": 13677,\n        \"samples\": [\n          \"https://cdn.myanimelist.net/images/anime/8/52135.jpg\",\n          \"https://cdn.myanimelist.net/images/anime/11/22210.jpg\",\n          \"https://cdn.myanimelist.net/images/anime/1492/98688.jpg\"\n        ],\n        \"semantic_type\": \"\",\n        \"description\": \"\"\n      }\n    },\n    {\n      \"column\": \"link\",\n      \"properties\": {\n        \"dtype\": \"string\",\n        \"num_unique_values\": 13677,\n        \"samples\": [\n          \"https://myanimelist.net/anime/19191/Koukaku_Kidoutai_Arise__Ghost_in_the_Shell_-_Border_2_Ghost_Whispers\",\n          \"https://myanimelist.net/anime/321/Najica_Dengeki_Sakusen\",\n          \"https://myanimelist.net/anime/39172/Kaisei\"\n        ],\n        \"semantic_type\": \"\",\n        \"description\": \"\"\n      }\n    },\n    {\n      \"column\": \"tags\",\n      \"properties\": {\n        \"dtype\": \"object\",\n        \"semantic_type\": \"\",\n        \"description\": \"\"\n      }\n    }\n  ]\n}"
            }
          },
          "metadata": {},
          "execution_count": 132
        }
      ]
    },
    {
      "cell_type": "markdown",
      "source": [
        "### 6. MAKE A NEW DATASET WITH ONLY IMPORTANT COLUMNS"
      ],
      "metadata": {
        "id": "ULH9PnEue4Tq"
      }
    },
    {
      "cell_type": "code",
      "source": [
        "animes = new_df[['uid', 'title','img_url', 'link', 'tags']]"
      ],
      "metadata": {
        "id": "FN7X0wm8dRlH"
      },
      "execution_count": 133,
      "outputs": []
    },
    {
      "cell_type": "code",
      "source": [
        "animes.head(1)"
      ],
      "metadata": {
        "colab": {
          "base_uri": "https://localhost:8080/",
          "height": 98
        },
        "id": "y10Xw_aPfCrw",
        "outputId": "37f66616-e2be-46e1-b453-25e73eef2b9c"
      },
      "execution_count": 134,
      "outputs": [
        {
          "output_type": "execute_result",
          "data": {
            "text/plain": [
              "     uid                    title  \\\n",
              "0  28891  Haikyuu!! Second Season   \n",
              "\n",
              "                                             img_url  \\\n",
              "0  https://cdn.myanimelist.net/images/anime/9/766...   \n",
              "\n",
              "                                                link  \\\n",
              "0  https://myanimelist.net/anime/28891/Haikyuu_Se...   \n",
              "\n",
              "                                                tags  \n",
              "0  [Comedy, Sports, Drama, School, Shounen, Follo...  "
            ],
            "text/html": [
              "\n",
              "  <div id=\"df-de27e979-0d05-4a71-bdd1-d4de9e3e21bd\" class=\"colab-df-container\">\n",
              "    <div>\n",
              "<style scoped>\n",
              "    .dataframe tbody tr th:only-of-type {\n",
              "        vertical-align: middle;\n",
              "    }\n",
              "\n",
              "    .dataframe tbody tr th {\n",
              "        vertical-align: top;\n",
              "    }\n",
              "\n",
              "    .dataframe thead th {\n",
              "        text-align: right;\n",
              "    }\n",
              "</style>\n",
              "<table border=\"1\" class=\"dataframe\">\n",
              "  <thead>\n",
              "    <tr style=\"text-align: right;\">\n",
              "      <th></th>\n",
              "      <th>uid</th>\n",
              "      <th>title</th>\n",
              "      <th>img_url</th>\n",
              "      <th>link</th>\n",
              "      <th>tags</th>\n",
              "    </tr>\n",
              "  </thead>\n",
              "  <tbody>\n",
              "    <tr>\n",
              "      <th>0</th>\n",
              "      <td>28891</td>\n",
              "      <td>Haikyuu!! Second Season</td>\n",
              "      <td>https://cdn.myanimelist.net/images/anime/9/766...</td>\n",
              "      <td>https://myanimelist.net/anime/28891/Haikyuu_Se...</td>\n",
              "      <td>[Comedy, Sports, Drama, School, Shounen, Follo...</td>\n",
              "    </tr>\n",
              "  </tbody>\n",
              "</table>\n",
              "</div>\n",
              "    <div class=\"colab-df-buttons\">\n",
              "\n",
              "  <div class=\"colab-df-container\">\n",
              "    <button class=\"colab-df-convert\" onclick=\"convertToInteractive('df-de27e979-0d05-4a71-bdd1-d4de9e3e21bd')\"\n",
              "            title=\"Convert this dataframe to an interactive table.\"\n",
              "            style=\"display:none;\">\n",
              "\n",
              "  <svg xmlns=\"http://www.w3.org/2000/svg\" height=\"24px\" viewBox=\"0 -960 960 960\">\n",
              "    <path d=\"M120-120v-720h720v720H120Zm60-500h600v-160H180v160Zm220 220h160v-160H400v160Zm0 220h160v-160H400v160ZM180-400h160v-160H180v160Zm440 0h160v-160H620v160ZM180-180h160v-160H180v160Zm440 0h160v-160H620v160Z\"/>\n",
              "  </svg>\n",
              "    </button>\n",
              "\n",
              "  <style>\n",
              "    .colab-df-container {\n",
              "      display:flex;\n",
              "      gap: 12px;\n",
              "    }\n",
              "\n",
              "    .colab-df-convert {\n",
              "      background-color: #E8F0FE;\n",
              "      border: none;\n",
              "      border-radius: 50%;\n",
              "      cursor: pointer;\n",
              "      display: none;\n",
              "      fill: #1967D2;\n",
              "      height: 32px;\n",
              "      padding: 0 0 0 0;\n",
              "      width: 32px;\n",
              "    }\n",
              "\n",
              "    .colab-df-convert:hover {\n",
              "      background-color: #E2EBFA;\n",
              "      box-shadow: 0px 1px 2px rgba(60, 64, 67, 0.3), 0px 1px 3px 1px rgba(60, 64, 67, 0.15);\n",
              "      fill: #174EA6;\n",
              "    }\n",
              "\n",
              "    .colab-df-buttons div {\n",
              "      margin-bottom: 4px;\n",
              "    }\n",
              "\n",
              "    [theme=dark] .colab-df-convert {\n",
              "      background-color: #3B4455;\n",
              "      fill: #D2E3FC;\n",
              "    }\n",
              "\n",
              "    [theme=dark] .colab-df-convert:hover {\n",
              "      background-color: #434B5C;\n",
              "      box-shadow: 0px 1px 3px 1px rgba(0, 0, 0, 0.15);\n",
              "      filter: drop-shadow(0px 1px 2px rgba(0, 0, 0, 0.3));\n",
              "      fill: #FFFFFF;\n",
              "    }\n",
              "  </style>\n",
              "\n",
              "    <script>\n",
              "      const buttonEl =\n",
              "        document.querySelector('#df-de27e979-0d05-4a71-bdd1-d4de9e3e21bd button.colab-df-convert');\n",
              "      buttonEl.style.display =\n",
              "        google.colab.kernel.accessAllowed ? 'block' : 'none';\n",
              "\n",
              "      async function convertToInteractive(key) {\n",
              "        const element = document.querySelector('#df-de27e979-0d05-4a71-bdd1-d4de9e3e21bd');\n",
              "        const dataTable =\n",
              "          await google.colab.kernel.invokeFunction('convertToInteractive',\n",
              "                                                    [key], {});\n",
              "        if (!dataTable) return;\n",
              "\n",
              "        const docLinkHtml = 'Like what you see? Visit the ' +\n",
              "          '<a target=\"_blank\" href=https://colab.research.google.com/notebooks/data_table.ipynb>data table notebook</a>'\n",
              "          + ' to learn more about interactive tables.';\n",
              "        element.innerHTML = '';\n",
              "        dataTable['output_type'] = 'display_data';\n",
              "        await google.colab.output.renderOutput(dataTable, element);\n",
              "        const docLink = document.createElement('div');\n",
              "        docLink.innerHTML = docLinkHtml;\n",
              "        element.appendChild(docLink);\n",
              "      }\n",
              "    </script>\n",
              "  </div>\n",
              "\n",
              "\n",
              "    </div>\n",
              "  </div>\n"
            ],
            "application/vnd.google.colaboratory.intrinsic+json": {
              "type": "dataframe",
              "variable_name": "animes",
              "summary": "{\n  \"name\": \"animes\",\n  \"rows\": 13731,\n  \"fields\": [\n    {\n      \"column\": \"uid\",\n      \"properties\": {\n        \"dtype\": \"number\",\n        \"std\": 13989,\n        \"min\": 1,\n        \"max\": 40849,\n        \"num_unique_values\": 13677,\n        \"samples\": [\n          19191,\n          321,\n          39172\n        ],\n        \"semantic_type\": \"\",\n        \"description\": \"\"\n      }\n    },\n    {\n      \"column\": \"title\",\n      \"properties\": {\n        \"dtype\": \"string\",\n        \"num_unique_values\": 13675,\n        \"samples\": [\n          \"Kono Danshi, Ningyo Hiroimashita.\",\n          \"Najica Dengeki Sakusen\",\n          \"Irotoridori no Melody\"\n        ],\n        \"semantic_type\": \"\",\n        \"description\": \"\"\n      }\n    },\n    {\n      \"column\": \"img_url\",\n      \"properties\": {\n        \"dtype\": \"string\",\n        \"num_unique_values\": 13677,\n        \"samples\": [\n          \"https://cdn.myanimelist.net/images/anime/8/52135.jpg\",\n          \"https://cdn.myanimelist.net/images/anime/11/22210.jpg\",\n          \"https://cdn.myanimelist.net/images/anime/1492/98688.jpg\"\n        ],\n        \"semantic_type\": \"\",\n        \"description\": \"\"\n      }\n    },\n    {\n      \"column\": \"link\",\n      \"properties\": {\n        \"dtype\": \"string\",\n        \"num_unique_values\": 13677,\n        \"samples\": [\n          \"https://myanimelist.net/anime/19191/Koukaku_Kidoutai_Arise__Ghost_in_the_Shell_-_Border_2_Ghost_Whispers\",\n          \"https://myanimelist.net/anime/321/Najica_Dengeki_Sakusen\",\n          \"https://myanimelist.net/anime/39172/Kaisei\"\n        ],\n        \"semantic_type\": \"\",\n        \"description\": \"\"\n      }\n    },\n    {\n      \"column\": \"tags\",\n      \"properties\": {\n        \"dtype\": \"object\",\n        \"semantic_type\": \"\",\n        \"description\": \"\"\n      }\n    }\n  ]\n}"
            }
          },
          "metadata": {},
          "execution_count": 134
        }
      ]
    },
    {
      "cell_type": "markdown",
      "source": [
        "### 7. DOING SOME NLP TASKS"
      ],
      "metadata": {
        "id": "d-5zbVAgiAKa"
      }
    },
    {
      "cell_type": "code",
      "source": [
        "animes['tags'] = animes['tags'].apply(lambda x: \" \".join(x))"
      ],
      "metadata": {
        "colab": {
          "base_uri": "https://localhost:8080/"
        },
        "id": "QXWJ35L4fDza",
        "outputId": "90ea9e86-c8b4-4e2a-b422-1e7c5ed70a42"
      },
      "execution_count": 135,
      "outputs": [
        {
          "output_type": "stream",
          "name": "stderr",
          "text": [
            "<ipython-input-135-251fc442352d>:1: SettingWithCopyWarning: \n",
            "A value is trying to be set on a copy of a slice from a DataFrame.\n",
            "Try using .loc[row_indexer,col_indexer] = value instead\n",
            "\n",
            "See the caveats in the documentation: https://pandas.pydata.org/pandas-docs/stable/user_guide/indexing.html#returning-a-view-versus-a-copy\n",
            "  animes['tags'] = animes['tags'].apply(lambda x: \" \".join(x))\n"
          ]
        }
      ]
    },
    {
      "cell_type": "code",
      "source": [
        "animes.head(1)"
      ],
      "metadata": {
        "colab": {
          "base_uri": "https://localhost:8080/",
          "height": 115
        },
        "id": "19zgVKjYfWiM",
        "outputId": "ce3d5ad1-7988-460b-f30b-9885125a0982"
      },
      "execution_count": 136,
      "outputs": [
        {
          "output_type": "execute_result",
          "data": {
            "text/plain": [
              "     uid                    title  \\\n",
              "0  28891  Haikyuu!! Second Season   \n",
              "\n",
              "                                             img_url  \\\n",
              "0  https://cdn.myanimelist.net/images/anime/9/766...   \n",
              "\n",
              "                                                link  \\\n",
              "0  https://myanimelist.net/anime/28891/Haikyuu_Se...   \n",
              "\n",
              "                                                tags  \n",
              "0  Comedy Sports Drama School Shounen Following t...  "
            ],
            "text/html": [
              "\n",
              "  <div id=\"df-67f78c4a-cffe-4797-a5ea-8458a7cffc9c\" class=\"colab-df-container\">\n",
              "    <div>\n",
              "<style scoped>\n",
              "    .dataframe tbody tr th:only-of-type {\n",
              "        vertical-align: middle;\n",
              "    }\n",
              "\n",
              "    .dataframe tbody tr th {\n",
              "        vertical-align: top;\n",
              "    }\n",
              "\n",
              "    .dataframe thead th {\n",
              "        text-align: right;\n",
              "    }\n",
              "</style>\n",
              "<table border=\"1\" class=\"dataframe\">\n",
              "  <thead>\n",
              "    <tr style=\"text-align: right;\">\n",
              "      <th></th>\n",
              "      <th>uid</th>\n",
              "      <th>title</th>\n",
              "      <th>img_url</th>\n",
              "      <th>link</th>\n",
              "      <th>tags</th>\n",
              "    </tr>\n",
              "  </thead>\n",
              "  <tbody>\n",
              "    <tr>\n",
              "      <th>0</th>\n",
              "      <td>28891</td>\n",
              "      <td>Haikyuu!! Second Season</td>\n",
              "      <td>https://cdn.myanimelist.net/images/anime/9/766...</td>\n",
              "      <td>https://myanimelist.net/anime/28891/Haikyuu_Se...</td>\n",
              "      <td>Comedy Sports Drama School Shounen Following t...</td>\n",
              "    </tr>\n",
              "  </tbody>\n",
              "</table>\n",
              "</div>\n",
              "    <div class=\"colab-df-buttons\">\n",
              "\n",
              "  <div class=\"colab-df-container\">\n",
              "    <button class=\"colab-df-convert\" onclick=\"convertToInteractive('df-67f78c4a-cffe-4797-a5ea-8458a7cffc9c')\"\n",
              "            title=\"Convert this dataframe to an interactive table.\"\n",
              "            style=\"display:none;\">\n",
              "\n",
              "  <svg xmlns=\"http://www.w3.org/2000/svg\" height=\"24px\" viewBox=\"0 -960 960 960\">\n",
              "    <path d=\"M120-120v-720h720v720H120Zm60-500h600v-160H180v160Zm220 220h160v-160H400v160Zm0 220h160v-160H400v160ZM180-400h160v-160H180v160Zm440 0h160v-160H620v160ZM180-180h160v-160H180v160Zm440 0h160v-160H620v160Z\"/>\n",
              "  </svg>\n",
              "    </button>\n",
              "\n",
              "  <style>\n",
              "    .colab-df-container {\n",
              "      display:flex;\n",
              "      gap: 12px;\n",
              "    }\n",
              "\n",
              "    .colab-df-convert {\n",
              "      background-color: #E8F0FE;\n",
              "      border: none;\n",
              "      border-radius: 50%;\n",
              "      cursor: pointer;\n",
              "      display: none;\n",
              "      fill: #1967D2;\n",
              "      height: 32px;\n",
              "      padding: 0 0 0 0;\n",
              "      width: 32px;\n",
              "    }\n",
              "\n",
              "    .colab-df-convert:hover {\n",
              "      background-color: #E2EBFA;\n",
              "      box-shadow: 0px 1px 2px rgba(60, 64, 67, 0.3), 0px 1px 3px 1px rgba(60, 64, 67, 0.15);\n",
              "      fill: #174EA6;\n",
              "    }\n",
              "\n",
              "    .colab-df-buttons div {\n",
              "      margin-bottom: 4px;\n",
              "    }\n",
              "\n",
              "    [theme=dark] .colab-df-convert {\n",
              "      background-color: #3B4455;\n",
              "      fill: #D2E3FC;\n",
              "    }\n",
              "\n",
              "    [theme=dark] .colab-df-convert:hover {\n",
              "      background-color: #434B5C;\n",
              "      box-shadow: 0px 1px 3px 1px rgba(0, 0, 0, 0.15);\n",
              "      filter: drop-shadow(0px 1px 2px rgba(0, 0, 0, 0.3));\n",
              "      fill: #FFFFFF;\n",
              "    }\n",
              "  </style>\n",
              "\n",
              "    <script>\n",
              "      const buttonEl =\n",
              "        document.querySelector('#df-67f78c4a-cffe-4797-a5ea-8458a7cffc9c button.colab-df-convert');\n",
              "      buttonEl.style.display =\n",
              "        google.colab.kernel.accessAllowed ? 'block' : 'none';\n",
              "\n",
              "      async function convertToInteractive(key) {\n",
              "        const element = document.querySelector('#df-67f78c4a-cffe-4797-a5ea-8458a7cffc9c');\n",
              "        const dataTable =\n",
              "          await google.colab.kernel.invokeFunction('convertToInteractive',\n",
              "                                                    [key], {});\n",
              "        if (!dataTable) return;\n",
              "\n",
              "        const docLinkHtml = 'Like what you see? Visit the ' +\n",
              "          '<a target=\"_blank\" href=https://colab.research.google.com/notebooks/data_table.ipynb>data table notebook</a>'\n",
              "          + ' to learn more about interactive tables.';\n",
              "        element.innerHTML = '';\n",
              "        dataTable['output_type'] = 'display_data';\n",
              "        await google.colab.output.renderOutput(dataTable, element);\n",
              "        const docLink = document.createElement('div');\n",
              "        docLink.innerHTML = docLinkHtml;\n",
              "        element.appendChild(docLink);\n",
              "      }\n",
              "    </script>\n",
              "  </div>\n",
              "\n",
              "\n",
              "    </div>\n",
              "  </div>\n"
            ],
            "application/vnd.google.colaboratory.intrinsic+json": {
              "type": "dataframe",
              "variable_name": "animes",
              "summary": "{\n  \"name\": \"animes\",\n  \"rows\": 13731,\n  \"fields\": [\n    {\n      \"column\": \"uid\",\n      \"properties\": {\n        \"dtype\": \"number\",\n        \"std\": 13989,\n        \"min\": 1,\n        \"max\": 40849,\n        \"num_unique_values\": 13677,\n        \"samples\": [\n          19191,\n          321,\n          39172\n        ],\n        \"semantic_type\": \"\",\n        \"description\": \"\"\n      }\n    },\n    {\n      \"column\": \"title\",\n      \"properties\": {\n        \"dtype\": \"string\",\n        \"num_unique_values\": 13675,\n        \"samples\": [\n          \"Kono Danshi, Ningyo Hiroimashita.\",\n          \"Najica Dengeki Sakusen\",\n          \"Irotoridori no Melody\"\n        ],\n        \"semantic_type\": \"\",\n        \"description\": \"\"\n      }\n    },\n    {\n      \"column\": \"img_url\",\n      \"properties\": {\n        \"dtype\": \"string\",\n        \"num_unique_values\": 13677,\n        \"samples\": [\n          \"https://cdn.myanimelist.net/images/anime/8/52135.jpg\",\n          \"https://cdn.myanimelist.net/images/anime/11/22210.jpg\",\n          \"https://cdn.myanimelist.net/images/anime/1492/98688.jpg\"\n        ],\n        \"semantic_type\": \"\",\n        \"description\": \"\"\n      }\n    },\n    {\n      \"column\": \"link\",\n      \"properties\": {\n        \"dtype\": \"string\",\n        \"num_unique_values\": 13677,\n        \"samples\": [\n          \"https://myanimelist.net/anime/19191/Koukaku_Kidoutai_Arise__Ghost_in_the_Shell_-_Border_2_Ghost_Whispers\",\n          \"https://myanimelist.net/anime/321/Najica_Dengeki_Sakusen\",\n          \"https://myanimelist.net/anime/39172/Kaisei\"\n        ],\n        \"semantic_type\": \"\",\n        \"description\": \"\"\n      }\n    },\n    {\n      \"column\": \"tags\",\n      \"properties\": {\n        \"dtype\": \"string\",\n        \"num_unique_values\": 13529,\n        \"samples\": [\n          \"Comedy Parody Ecchi Fantasy New OVAs slated for release in Fall 2016. The OVAs will include two new characters, Cleric and Kunoichi. (Source: MAL News)\",\n          \"Music Comedy Rodeo is a normal high school boy who aims to be like GRANRODEO. Gra-P, a self-proclaimed music producer who comes from the future, tries to help him.\",\n          \"Drama Romance Slice of Life Supernatural The spring has come since Yuuichi reunited with Ayu, and lives of all major characters are back on track. When Mishio visits Makoto's birthplace, however, a miracle happens before her eyes. (Source: ANN)\"\n        ],\n        \"semantic_type\": \"\",\n        \"description\": \"\"\n      }\n    }\n  ]\n}"
            }
          },
          "metadata": {},
          "execution_count": 136
        }
      ]
    },
    {
      "cell_type": "code",
      "source": [
        "animes['tags'] = animes['tags'].apply(lambda x:x.lower())"
      ],
      "metadata": {
        "colab": {
          "base_uri": "https://localhost:8080/"
        },
        "id": "ss5Mbh7bfbD1",
        "outputId": "6c2693ec-cfea-409b-b3cf-8102b70d1bf2"
      },
      "execution_count": 137,
      "outputs": [
        {
          "output_type": "stream",
          "name": "stderr",
          "text": [
            "<ipython-input-137-a087718d9bf5>:1: SettingWithCopyWarning: \n",
            "A value is trying to be set on a copy of a slice from a DataFrame.\n",
            "Try using .loc[row_indexer,col_indexer] = value instead\n",
            "\n",
            "See the caveats in the documentation: https://pandas.pydata.org/pandas-docs/stable/user_guide/indexing.html#returning-a-view-versus-a-copy\n",
            "  animes['tags'] = animes['tags'].apply(lambda x:x.lower())\n"
          ]
        }
      ]
    },
    {
      "cell_type": "code",
      "source": [
        "animes.head(1)"
      ],
      "metadata": {
        "colab": {
          "base_uri": "https://localhost:8080/",
          "height": 98
        },
        "id": "8FQkn7dafhVC",
        "outputId": "0ea51a9f-c018-4af3-cb8a-156bc1882795"
      },
      "execution_count": 138,
      "outputs": [
        {
          "output_type": "execute_result",
          "data": {
            "text/plain": [
              "     uid                    title  \\\n",
              "0  28891  Haikyuu!! Second Season   \n",
              "\n",
              "                                             img_url  \\\n",
              "0  https://cdn.myanimelist.net/images/anime/9/766...   \n",
              "\n",
              "                                                link  \\\n",
              "0  https://myanimelist.net/anime/28891/Haikyuu_Se...   \n",
              "\n",
              "                                                tags  \n",
              "0  comedy sports drama school shounen following t...  "
            ],
            "text/html": [
              "\n",
              "  <div id=\"df-c82e93b8-3fba-4fdb-bda1-a8800ada6308\" class=\"colab-df-container\">\n",
              "    <div>\n",
              "<style scoped>\n",
              "    .dataframe tbody tr th:only-of-type {\n",
              "        vertical-align: middle;\n",
              "    }\n",
              "\n",
              "    .dataframe tbody tr th {\n",
              "        vertical-align: top;\n",
              "    }\n",
              "\n",
              "    .dataframe thead th {\n",
              "        text-align: right;\n",
              "    }\n",
              "</style>\n",
              "<table border=\"1\" class=\"dataframe\">\n",
              "  <thead>\n",
              "    <tr style=\"text-align: right;\">\n",
              "      <th></th>\n",
              "      <th>uid</th>\n",
              "      <th>title</th>\n",
              "      <th>img_url</th>\n",
              "      <th>link</th>\n",
              "      <th>tags</th>\n",
              "    </tr>\n",
              "  </thead>\n",
              "  <tbody>\n",
              "    <tr>\n",
              "      <th>0</th>\n",
              "      <td>28891</td>\n",
              "      <td>Haikyuu!! Second Season</td>\n",
              "      <td>https://cdn.myanimelist.net/images/anime/9/766...</td>\n",
              "      <td>https://myanimelist.net/anime/28891/Haikyuu_Se...</td>\n",
              "      <td>comedy sports drama school shounen following t...</td>\n",
              "    </tr>\n",
              "  </tbody>\n",
              "</table>\n",
              "</div>\n",
              "    <div class=\"colab-df-buttons\">\n",
              "\n",
              "  <div class=\"colab-df-container\">\n",
              "    <button class=\"colab-df-convert\" onclick=\"convertToInteractive('df-c82e93b8-3fba-4fdb-bda1-a8800ada6308')\"\n",
              "            title=\"Convert this dataframe to an interactive table.\"\n",
              "            style=\"display:none;\">\n",
              "\n",
              "  <svg xmlns=\"http://www.w3.org/2000/svg\" height=\"24px\" viewBox=\"0 -960 960 960\">\n",
              "    <path d=\"M120-120v-720h720v720H120Zm60-500h600v-160H180v160Zm220 220h160v-160H400v160Zm0 220h160v-160H400v160ZM180-400h160v-160H180v160Zm440 0h160v-160H620v160ZM180-180h160v-160H180v160Zm440 0h160v-160H620v160Z\"/>\n",
              "  </svg>\n",
              "    </button>\n",
              "\n",
              "  <style>\n",
              "    .colab-df-container {\n",
              "      display:flex;\n",
              "      gap: 12px;\n",
              "    }\n",
              "\n",
              "    .colab-df-convert {\n",
              "      background-color: #E8F0FE;\n",
              "      border: none;\n",
              "      border-radius: 50%;\n",
              "      cursor: pointer;\n",
              "      display: none;\n",
              "      fill: #1967D2;\n",
              "      height: 32px;\n",
              "      padding: 0 0 0 0;\n",
              "      width: 32px;\n",
              "    }\n",
              "\n",
              "    .colab-df-convert:hover {\n",
              "      background-color: #E2EBFA;\n",
              "      box-shadow: 0px 1px 2px rgba(60, 64, 67, 0.3), 0px 1px 3px 1px rgba(60, 64, 67, 0.15);\n",
              "      fill: #174EA6;\n",
              "    }\n",
              "\n",
              "    .colab-df-buttons div {\n",
              "      margin-bottom: 4px;\n",
              "    }\n",
              "\n",
              "    [theme=dark] .colab-df-convert {\n",
              "      background-color: #3B4455;\n",
              "      fill: #D2E3FC;\n",
              "    }\n",
              "\n",
              "    [theme=dark] .colab-df-convert:hover {\n",
              "      background-color: #434B5C;\n",
              "      box-shadow: 0px 1px 3px 1px rgba(0, 0, 0, 0.15);\n",
              "      filter: drop-shadow(0px 1px 2px rgba(0, 0, 0, 0.3));\n",
              "      fill: #FFFFFF;\n",
              "    }\n",
              "  </style>\n",
              "\n",
              "    <script>\n",
              "      const buttonEl =\n",
              "        document.querySelector('#df-c82e93b8-3fba-4fdb-bda1-a8800ada6308 button.colab-df-convert');\n",
              "      buttonEl.style.display =\n",
              "        google.colab.kernel.accessAllowed ? 'block' : 'none';\n",
              "\n",
              "      async function convertToInteractive(key) {\n",
              "        const element = document.querySelector('#df-c82e93b8-3fba-4fdb-bda1-a8800ada6308');\n",
              "        const dataTable =\n",
              "          await google.colab.kernel.invokeFunction('convertToInteractive',\n",
              "                                                    [key], {});\n",
              "        if (!dataTable) return;\n",
              "\n",
              "        const docLinkHtml = 'Like what you see? Visit the ' +\n",
              "          '<a target=\"_blank\" href=https://colab.research.google.com/notebooks/data_table.ipynb>data table notebook</a>'\n",
              "          + ' to learn more about interactive tables.';\n",
              "        element.innerHTML = '';\n",
              "        dataTable['output_type'] = 'display_data';\n",
              "        await google.colab.output.renderOutput(dataTable, element);\n",
              "        const docLink = document.createElement('div');\n",
              "        docLink.innerHTML = docLinkHtml;\n",
              "        element.appendChild(docLink);\n",
              "      }\n",
              "    </script>\n",
              "  </div>\n",
              "\n",
              "\n",
              "    </div>\n",
              "  </div>\n"
            ],
            "application/vnd.google.colaboratory.intrinsic+json": {
              "type": "dataframe",
              "variable_name": "animes",
              "summary": "{\n  \"name\": \"animes\",\n  \"rows\": 13731,\n  \"fields\": [\n    {\n      \"column\": \"uid\",\n      \"properties\": {\n        \"dtype\": \"number\",\n        \"std\": 13989,\n        \"min\": 1,\n        \"max\": 40849,\n        \"num_unique_values\": 13677,\n        \"samples\": [\n          19191,\n          321,\n          39172\n        ],\n        \"semantic_type\": \"\",\n        \"description\": \"\"\n      }\n    },\n    {\n      \"column\": \"title\",\n      \"properties\": {\n        \"dtype\": \"string\",\n        \"num_unique_values\": 13675,\n        \"samples\": [\n          \"Kono Danshi, Ningyo Hiroimashita.\",\n          \"Najica Dengeki Sakusen\",\n          \"Irotoridori no Melody\"\n        ],\n        \"semantic_type\": \"\",\n        \"description\": \"\"\n      }\n    },\n    {\n      \"column\": \"img_url\",\n      \"properties\": {\n        \"dtype\": \"string\",\n        \"num_unique_values\": 13677,\n        \"samples\": [\n          \"https://cdn.myanimelist.net/images/anime/8/52135.jpg\",\n          \"https://cdn.myanimelist.net/images/anime/11/22210.jpg\",\n          \"https://cdn.myanimelist.net/images/anime/1492/98688.jpg\"\n        ],\n        \"semantic_type\": \"\",\n        \"description\": \"\"\n      }\n    },\n    {\n      \"column\": \"link\",\n      \"properties\": {\n        \"dtype\": \"string\",\n        \"num_unique_values\": 13677,\n        \"samples\": [\n          \"https://myanimelist.net/anime/19191/Koukaku_Kidoutai_Arise__Ghost_in_the_Shell_-_Border_2_Ghost_Whispers\",\n          \"https://myanimelist.net/anime/321/Najica_Dengeki_Sakusen\",\n          \"https://myanimelist.net/anime/39172/Kaisei\"\n        ],\n        \"semantic_type\": \"\",\n        \"description\": \"\"\n      }\n    },\n    {\n      \"column\": \"tags\",\n      \"properties\": {\n        \"dtype\": \"string\",\n        \"num_unique_values\": 13527,\n        \"samples\": [\n          \"action drama sports hiromi continues developing her tennis and shows the results while undergoing an emotional change into an adult. (source: anidb)\",\n          \"adventure comedy sci-fi space meltylancer is a galaxy police organization unit comprised by six girls, all of which who have their own special skills and talents. a year has passed since the unit's disbandment, but a new threat leaves the gpo no choice but to recall all the members. with a new commander and a new aide, meltylancer is deployed once again. (source: ann)\",\n          \"fantasy mystery a collection of the best entries shown at the annual inter-college animation festival from 2001 to 2006. for many animation students in japan participating in the festival is a chance to start their professional careers. the entries include works made using various animation techniques, including cgi and stop-motion. taku furukawa, katayama masahiro and kihune tokumitsu can be found among the judges of the festival.\"\n        ],\n        \"semantic_type\": \"\",\n        \"description\": \"\"\n      }\n    }\n  ]\n}"
            }
          },
          "metadata": {},
          "execution_count": 138
        }
      ]
    },
    {
      "cell_type": "code",
      "source": [
        "import nltk\n",
        "from nltk.stem import PorterStemmer\n",
        "from sklearn.feature_extraction.text import CountVectorizer\n",
        "from sklearn.metrics.pairwise import cosine_similarity\n",
        "import pickle"
      ],
      "metadata": {
        "id": "poQhUyHvfs-W"
      },
      "execution_count": 139,
      "outputs": []
    },
    {
      "cell_type": "code",
      "source": [
        "ps = PorterStemmer()\n",
        "def stems(text):\n",
        "    T = []\n",
        "    for i in text.split():\n",
        "        T.append(ps.stem(i))\n",
        "\n",
        "    return \" \".join(T)"
      ],
      "metadata": {
        "id": "tyf6qlycfk2z"
      },
      "execution_count": 140,
      "outputs": []
    },
    {
      "cell_type": "code",
      "source": [
        "animes['tags'] = animes['tags'].apply(stems)"
      ],
      "metadata": {
        "colab": {
          "base_uri": "https://localhost:8080/"
        },
        "id": "X2FNZnstfuiW",
        "outputId": "6c3e1ea0-bf64-4f52-8264-a17b1f86d037"
      },
      "execution_count": 141,
      "outputs": [
        {
          "output_type": "stream",
          "name": "stderr",
          "text": [
            "<ipython-input-141-0794aee0d6f0>:1: SettingWithCopyWarning: \n",
            "A value is trying to be set on a copy of a slice from a DataFrame.\n",
            "Try using .loc[row_indexer,col_indexer] = value instead\n",
            "\n",
            "See the caveats in the documentation: https://pandas.pydata.org/pandas-docs/stable/user_guide/indexing.html#returning-a-view-versus-a-copy\n",
            "  animes['tags'] = animes['tags'].apply(stems)\n"
          ]
        }
      ]
    },
    {
      "cell_type": "code",
      "source": [
        "# Converting words to their vector form\n",
        "cv = CountVectorizer(max_features=5000,stop_words='english')\n",
        "vector = cv.fit_transform(animes['tags']).toarray()"
      ],
      "metadata": {
        "id": "Zu_teBeXf84F"
      },
      "execution_count": 142,
      "outputs": []
    },
    {
      "cell_type": "code",
      "source": [
        "vector.shape"
      ],
      "metadata": {
        "colab": {
          "base_uri": "https://localhost:8080/"
        },
        "id": "7HigedF0f9Bl",
        "outputId": "abeda5b3-b8d0-47b5-f2f3-1739a8931c06"
      },
      "execution_count": 143,
      "outputs": [
        {
          "output_type": "execute_result",
          "data": {
            "text/plain": [
              "(13731, 5000)"
            ]
          },
          "metadata": {},
          "execution_count": 143
        }
      ]
    },
    {
      "cell_type": "code",
      "source": [
        "similarity = cosine_similarity(vector)\n",
        "similarity.shape"
      ],
      "metadata": {
        "colab": {
          "base_uri": "https://localhost:8080/"
        },
        "id": "glieT84Yf1ZB",
        "outputId": "4230116c-8f71-4476-9a4c-3ef6cd6f6ba2"
      },
      "execution_count": 144,
      "outputs": [
        {
          "output_type": "execute_result",
          "data": {
            "text/plain": [
              "(13731, 13731)"
            ]
          },
          "metadata": {},
          "execution_count": 144
        }
      ]
    },
    {
      "cell_type": "markdown",
      "source": [
        "### 8. PREDICTION FUNCTION"
      ],
      "metadata": {
        "id": "muaOIoMGiFWj"
      }
    },
    {
      "cell_type": "code",
      "source": [
        "def recommend(anime):\n",
        "    index = animes[animes['title'] == anime].index[0]\n",
        "    distances = sorted(list(enumerate(similarity[index])),reverse=True,key = lambda x: x[1])\n",
        "    for i in distances[1:6]:\n",
        "        print(animes.iloc[i[0]].title)"
      ],
      "metadata": {
        "id": "idLsyU3sgH-5"
      },
      "execution_count": 145,
      "outputs": []
    },
    {
      "cell_type": "code",
      "source": [
        "recommend('One Punch Man')"
      ],
      "metadata": {
        "colab": {
          "base_uri": "https://localhost:8080/"
        },
        "id": "ASzwa6r5gXER",
        "outputId": "b6a43698-10ab-4272-c3db-e42d653d299e"
      },
      "execution_count": 146,
      "outputs": [
        {
          "output_type": "stream",
          "name": "stdout",
          "text": [
            "One Punch Man: Road to Hero\n",
            "One Punch Man 2nd Season\n",
            "Boku no Hero Academia\n",
            "Bakuman.\n",
            "Yuusha ni Narenakatta Ore wa Shibushibu Shuushoku wo Ketsui Shimashita.\n"
          ]
        }
      ]
    },
    {
      "cell_type": "markdown",
      "source": [
        "### 9. SAVING"
      ],
      "metadata": {
        "id": "xMTPIr8YiK-z"
      }
    },
    {
      "cell_type": "code",
      "source": [
        "with open('/content/artifacts/animes.pkl', 'wb') as file:\n",
        "    pickle.dump(animes, file)\n",
        "\n",
        "# Save similarity to a file named 'similarity.pkl'\n",
        "with open('/content/artifacts/similarity.pkl', 'wb') as file:\n",
        "    pickle.dump(similarity, file)"
      ],
      "metadata": {
        "id": "6J557tbKgYIS"
      },
      "execution_count": 147,
      "outputs": []
    },
    {
      "cell_type": "code",
      "source": [
        "from google.colab import drive\n",
        "\n",
        "drive.mount('/content/drive')\n"
      ],
      "metadata": {
        "colab": {
          "base_uri": "https://localhost:8080/"
        },
        "id": "UmQ85dPbgpz3",
        "outputId": "b9281ba6-1833-4815-a47b-9e80c2f3c76e"
      },
      "execution_count": 148,
      "outputs": [
        {
          "output_type": "stream",
          "name": "stdout",
          "text": [
            "Mounted at /content/drive\n"
          ]
        }
      ]
    },
    {
      "cell_type": "code",
      "source": [
        "import shutil\n",
        "\n",
        "# Assuming 'file_path' is the path of your file in Colab\n",
        "file_path = '/content/artifacts/similarity.pkl'\n",
        "\n",
        "# Specify the destination path on Google Drive\n",
        "drive_path = '/content/drive/My Drive/similarity.pkl'\n",
        "\n",
        "# Copy the file to Google Drive\n",
        "shutil.copyfile(file_path, drive_path)\n"
      ],
      "metadata": {
        "colab": {
          "base_uri": "https://localhost:8080/",
          "height": 36
        },
        "id": "TLmDmJs7grPM",
        "outputId": "ea5bbfe8-5355-4adc-b6ea-c6f1a71a4389"
      },
      "execution_count": 151,
      "outputs": [
        {
          "output_type": "execute_result",
          "data": {
            "text/plain": [
              "'/content/drive/My Drive/similarity.pkl'"
            ],
            "application/vnd.google.colaboratory.intrinsic+json": {
              "type": "string"
            }
          },
          "metadata": {},
          "execution_count": 151
        }
      ]
    },
    {
      "cell_type": "code",
      "source": [],
      "metadata": {
        "id": "3Un_UqmNi7gQ"
      },
      "execution_count": null,
      "outputs": []
    }
  ]
}